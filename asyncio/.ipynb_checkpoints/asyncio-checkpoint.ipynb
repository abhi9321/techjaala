{
 "cells": [
  {
   "attachments": {},
   "cell_type": "markdown",
   "metadata": {},
   "source": [
    "\n"
   ]
  },
  {
   "cell_type": "markdown",
   "metadata": {},
   "source": [
    "## Concurrency using Asyncio in Python\n",
    "\n",
    "### Concurrency\n",
    "\n",
    "In computer science, concurrency is the ability of different parts or units of a program to be executed out-of-order or in partial order, without affecting the final outcome.\n",
    "\n",
    "concurrency is a property of system which enables overlapping of process lifetimes (threading and AsyncIO)\n",
    "\n",
    "Threading and asyncio both run on a single processor and therefore only run one at a time.\n",
    "\n",
    "#### How to achive concurrency using Asyncio ?\n",
    "\n",
    "before learning about Asyncio, lets understand about Synchronous and Asynchronous operation.\n",
    "\n",
    "\n",
    "#### Synchronous\n",
    "\n",
    "synchronous means that you can only execute one thing at a time. It blocks a process till the operation completes\n",
    "\n",
    "In the below example, there are 5 tasks and each task starts executing only when its previous task completes its operation.\n",
    "\n",
    "![image.png](attachment:image.png)\n",
    "\n",
    "\n"
   ]
  },
  {
   "cell_type": "markdown",
   "metadata": {},
   "source": [
    "#### Asynchronous\n",
    "\n",
    "A style of concurrent programming in which the tasks release the CPU during waiting periods, so that other tasks can use it.\n",
    "\n",
    "Asyncio is a library to write concurrent code using the async/await syntax.\n",
    "\n",
    "\n",
    "Asyncio uses cooperative multitasking. The tasks must cooperate by announcing when they are ready to be switched out. That means that the code in the task has to change slightly to make this happen."
   ]
  },
  {
   "cell_type": "markdown",
   "metadata": {},
   "source": [
    "### Coroutine\n",
    "\n",
    "coroutines are the foundation for Asynchronous program in python.  \n",
    "It is a function which can pause and resume its execution at any stage in its life cycle.\n",
    "A variant of function that enables concurrency via cooperative multitasking\n",
    "\n",
    "#### Cooperative multitasking (non-preemptive multtasking)\n",
    "\n",
    "In this style of multitasking, operating system will not context switch from a running process to another process. Instead, processes voluntarily yield control periodically or when blocked in order to enable multiple applications to be run concurrently.\n",
    "\n"
   ]
  },
  {
   "attachments": {
    "asynchronous_png.png": {
     "image/png": "[encoded data removed]"
    }
   },
   "cell_type": "markdown",
   "metadata": {},
   "source": [
    "In the below example, \n",
    "\n",
    "there are 3 tasks, we start coroutine task-1 and at some stage we pause the execution of task-1 and start execution of task-2 and now after some time, we pause task-2 and start task-3, again at some stage we pause task-3 and resume task-1. Now at some stage we pause task-1 and start task-2 and continues.coroutine works in this way. \n",
    "\n",
    "![asynchronous_png.png](attachment:asynchronous_png.png)\n"
   ]
  },
  {
   "cell_type": "markdown",
   "metadata": {},
   "source": [
    "Lets write a function and convert it to coroutine."
   ]
  },
  {
   "cell_type": "code",
   "execution_count": 3,
   "metadata": {},
   "outputs": [
    {
     "name": "stdout",
     "output_type": "stream",
     "text": [
      "Hello World!\n"
     ]
    }
   ],
   "source": [
    "def my_func():\n",
    "    print(\"Hello World!\")\n",
    "my_func()   "
   ]
  },
  {
   "cell_type": "markdown",
   "metadata": {},
   "source": [
    "prefered way to create coroutine for asyncio program is by declaring it with async/await syntax"
   ]
  },
  {
   "cell_type": "code",
   "execution_count": 4,
   "metadata": {},
   "outputs": [
    {
     "data": {
      "text/plain": [
       "<coroutine object my_func at 0x00000223C651D5C8>"
      ]
     },
     "execution_count": 4,
     "metadata": {},
     "output_type": "execute_result"
    }
   ],
   "source": [
    "# syntax : \n",
    "async def my_func():\n",
    "    print(\"Hello World!\")\n"
   ]
  },
  {
   "cell_type": "markdown",
   "metadata": {},
   "source": [
    "Now, we have create a coroutine funciton, but calling my_func() will not execute the function. It returns coroutine object."
   ]
  },
  {
   "cell_type": "code",
   "execution_count": 5,
   "metadata": {},
   "outputs": [
    {
     "data": {
      "text/plain": [
       "<coroutine object my_func at 0x00000223C651D548>"
      ]
     },
     "execution_count": 5,
     "metadata": {},
     "output_type": "execute_result"
    }
   ],
   "source": [
    "my_func()   "
   ]
  },
  {
   "cell_type": "markdown",
   "metadata": {},
   "source": [
    "How to execute coroutine:\n",
    "- use asyncio.run() function\n",
    "- use await \n",
    "- use asyncio.create_task() function to run coroutines concurrently \n",
    "\n",
    "below syntax was used in older python versions (3.5):\n",
    "\n",
    "The event loop is the core of every asyncio application. Event loops run asynchronous tasks and callbacks, perform network IO operations, and run subprocesses.\n",
    "\n",
    "loop = asyncio.get_event_loop()\n",
    "\n",
    "loop.run_until_complete(coroutine_method))\n",
    "\n",
    "loop.close()\n",
    "\n",
    "---------\n",
    "\n",
    "In newer version (python 3.7 onwards)\n",
    "asyncio.run(coroutine_method)"
   ]
  },
  {
   "cell_type": "code",
   "execution_count": 7,
   "metadata": {},
   "outputs": [
    {
     "name": "stdout",
     "output_type": "stream",
     "text": [
      "Hello World!\n"
     ]
    }
   ],
   "source": [
    "await my_func()"
   ]
  },
  {
   "cell_type": "code",
   "execution_count": null,
   "metadata": {},
   "outputs": [],
   "source": [
    "# pause execution of coroutine:\n",
    "async def coroutine_method():\n",
    "    await wait_for_method()\n",
    "    .\n",
    "    .\n",
    "    ."
   ]
  },
  {
   "cell_type": "markdown",
   "metadata": {},
   "source": [
    "#### Example: Synchronous Python\n",
    "when we call main() method, then my_func() is called.\n",
    "- sleep for 1 sec\n",
    "- prints reed\n",
    "- again sleep for 1 sec\n",
    "- prints blue\n",
    "- again sleep for 1 sec\n",
    "- print green\n",
    "\n",
    "my_func() is called 3 times sequentially. So it took ~9 sec to complete its execution."
   ]
  },
  {
   "cell_type": "code",
   "execution_count": 37,
   "metadata": {},
   "outputs": [
    {
     "name": "stdout",
     "output_type": "stream",
     "text": [
      "red\n",
      "blue\n",
      "green\n",
      "red\n",
      "blue\n",
      "green\n",
      "red\n",
      "blue\n",
      "green\n",
      "9.078161400000681 sec\n"
     ]
    }
   ],
   "source": [
    "import time\n",
    "def my_func():\n",
    "    time.sleep(1)\n",
    "    print('red')\n",
    "    time.sleep(1)\n",
    "    print('blue')\n",
    "    time.sleep(1)\n",
    "    print('green')\n",
    "\n",
    "def main():\n",
    "    my_func()\n",
    "    my_func()\n",
    "    my_func()\n",
    "\n",
    "if __name__ == '__main__':\n",
    "    t1 = time.perf_counter()\n",
    "    main()\n",
    "    t2 = time.perf_counter()\n",
    "    print(f'{t2-t1} sec')"
   ]
  },
  {
   "cell_type": "code",
   "execution_count": null,
   "metadata": {},
   "outputs": [],
   "source": [
    "# red\n",
    "# blue\n",
    "# green\n",
    "# red\n",
    "# blue\n",
    "# green\n",
    "# red\n",
    "# blue\n",
    "# green\n",
    "# 9.078161400000681 sec"
   ]
  },
  {
   "cell_type": "markdown",
   "metadata": {},
   "source": [
    "#### Example: ASynchronous Python\n",
    "\n",
    "It took only 3 sec to run, the first my_func cycle started and as soon as it hits await asyncio.sleep(1), python was free to do other works, i.e, it started 2nd cycle and subsequenty 3rd my_func cycle. This is why we have all 1st, 2nd and 3rd cycle running concurrently.\n",
    "\n"
   ]
  },
  {
   "cell_type": "code",
   "execution_count": 40,
   "metadata": {},
   "outputs": [
    {
     "name": "stdout",
     "output_type": "stream",
     "text": [
      "red\n",
      "red\n",
      "red\n",
      "blue\n",
      "blue\n",
      "blue\n",
      "green\n",
      "green\n",
      "green\n",
      "3.0178662999969674 sec\n"
     ]
    }
   ],
   "source": [
    "import time\n",
    "import asyncio\n",
    "\n",
    "async def my_func():\n",
    "    await asyncio.sleep(1)\n",
    "    print('red')\n",
    "    await asyncio.sleep(1)\n",
    "    print('blue')\n",
    "    await asyncio.sleep(1)\n",
    "    print('green')\n",
    "\n",
    "async def main():\n",
    "#     task = [count() for _ in range(0,3)]\n",
    "#     await asyncio.gather(*task)\n",
    "    await asyncio.gather(my_func(),my_func(),my_func())\n",
    "\n",
    "if __name__ == '__main__':\n",
    "    t1 = time.perf_counter()\n",
    "    await main()\n",
    "#     asyncio.run(main())\n",
    "    t2 = time.perf_counter()\n",
    "    print(f'{t2-t1} sec')\n",
    "   "
   ]
  },
  {
   "cell_type": "markdown",
   "metadata": {},
   "source": [
    "multi-processing and multi-threading has operating system (OS) role scheduling multitasking work, In threading python Global interpretor lock prevents multicore concurrency.\n",
    "\n",
    "In Async, there is no operatng system (OS) intervention. There is 1 process and 1 thread so, task can release CPU and during waiting periods, other tasks can use it. \n",
    "\n",
    "Asynchronous framework needs a scheduler , usually called an event loop. This keeps track of all the running task, and wen function is suspended , it return control to the event loop, which then will find other function to start/resume. This is called as  cooperative multi tasking.\n",
    "\n",
    "Asyncio provides a asynchronous framework efficiently handles i/o events. An applications interacts with event loop explicitly. It registers code to be run and let the scheduler make the necessary calls into applicaiton code when the resource is available.\n",
    "\n",
    "This mechanism from yielding control back to the event loop depends on coroutine.\n",
    "\n"
   ]
  },
  {
   "cell_type": "markdown",
   "metadata": {},
   "source": [
    "Another example compose of executing code using await keyword with another coroutine. while it pause, the coroutine state is maintained allowing it to resume where it left off.one coroutine (fruit()) can start another (wait_for_water()) and wait for result. this makes it easier to decompose task into reusuable parts."
   ]
  },
  {
   "cell_type": "code",
   "execution_count": 36,
   "metadata": {},
   "outputs": [
    {
     "name": "stdout",
     "output_type": "stream",
     "text": [
      "inside fruit shop\n",
      "waiting for water\n",
      "fetch water\n",
      "waiting for melon\n",
      "fetch melon\n",
      "fruit name : water melon\n"
     ]
    }
   ],
   "source": [
    "# loop = asyncio.get_event_loop()\n",
    "async def fruit():\n",
    "    print('inside fruit shop')\n",
    "    \n",
    "    print('waiting for water')\n",
    "    water = await wait_for_water()\n",
    "    \n",
    "    print('waiting for melon')\n",
    "    water_melon = await wait_for_melon(water)\n",
    "    \n",
    "    return water_melon\n",
    "\n",
    "async def wait_for_water():\n",
    "    print('fetch water')\n",
    "    return 'water'\n",
    "\n",
    "async def wait_for_melon(a):\n",
    "    print('fetch melon')\n",
    "    return a + ' melon'\n",
    "\n",
    "\n",
    "# if __name__ == '__main__':\n",
    "print(f'fruit name : {await fruit()}')"
   ]
  },
  {
   "cell_type": "code",
   "execution_count": 41,
   "metadata": {},
   "outputs": [],
   "source": [
    "# inside fruit shop\n",
    "# waiting for water\n",
    "# fetch water\n",
    "# waiting for melon\n",
    "# fetch melon\n",
    "# fruit name : water melon"
   ]
  },
  {
   "cell_type": "code",
   "execution_count": 44,
   "metadata": {},
   "outputs": [
    {
     "data": {
      "text/plain": [
       "1"
      ]
     },
     "execution_count": 44,
     "metadata": {},
     "output_type": "execute_result"
    }
   ],
   "source": [
    "import math\n",
    "\n",
    "math.ceil(100/250)"
   ]
  },
  {
   "cell_type": "code",
   "execution_count": 45,
   "metadata": {},
   "outputs": [
    {
     "data": {
      "text/plain": [
       "0.4"
      ]
     },
     "execution_count": 45,
     "metadata": {},
     "output_type": "execute_result"
    }
   ],
   "source": [
    "100/250"
   ]
  },
  {
   "cell_type": "code",
   "execution_count": null,
   "metadata": {},
   "outputs": [],
   "source": []
  }
 ],
 "metadata": {
  "kernelspec": {
   "display_name": "Python 3",
   "language": "python",
   "name": "python3"
  },
  "language_info": {
   "codemirror_mode": {
    "name": "ipython",
    "version": 3
   },
   "file_extension": ".py",
   "mimetype": "text/x-python",
   "name": "python",
   "nbconvert_exporter": "python",
   "pygments_lexer": "ipython3",
   "version": "3.7.6"
  }
 },
 "nbformat": 4,
 "nbformat_minor": 4
}
