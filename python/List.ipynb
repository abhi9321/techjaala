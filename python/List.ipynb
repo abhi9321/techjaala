{
 "cells": [
  {
   "cell_type": "markdown",
   "id": "26f13435-f5c9-47fb-948c-1827479be60f",
   "metadata": {},
   "source": [
    "# Python Lists"
   ]
  },
  {
   "cell_type": "markdown",
   "id": "1fc9ddb1-51b2-4eeb-a48f-d6938015daad",
   "metadata": {},
   "source": [
    "### 1. What is a List?"
   ]
  },
  {
   "cell_type": "markdown",
   "id": "e8f0d3fb-b6dd-4cb0-94aa-19a87e575e66",
   "metadata": {},
   "source": [
    "### 2. Creating and Accessing Lists\n"
   ]
  },
  {
   "cell_type": "markdown",
   "id": "b0774e13-7ab9-4186-bea8-7477ad2a8b85",
   "metadata": {},
   "source": [
    "### 3. Modifying Lists\n"
   ]
  },
  {
   "cell_type": "markdown",
   "id": "6863ac6c-8eed-457e-8c39-ff401c1cc7a9",
   "metadata": {},
   "source": [
    "### 4. List Operations\n"
   ]
  },
  {
   "cell_type": "markdown",
   "id": "f5afea4d-6a84-4d72-9abb-7e9c48d28f48",
   "metadata": {},
   "source": [
    "### 5. Looping through Lists\n"
   ]
  },
  {
   "cell_type": "markdown",
   "id": "f46aa509-8c88-4737-a5ba-14504c7681e4",
   "metadata": {},
   "source": [
    "### 6. Practical Examples\n"
   ]
  },
  {
   "cell_type": "markdown",
   "id": "c9e483ba-5edd-4d0e-a121-7b07c0b4e703",
   "metadata": {},
   "source": [
    "### 7. Best Practices"
   ]
  },
  {
   "cell_type": "code",
   "execution_count": null,
   "id": "4b4fe990-05ec-498a-81c5-1fbd843ec741",
   "metadata": {},
   "outputs": [],
   "source": []
  },
  {
   "cell_type": "markdown",
   "id": "7280bfa3-5636-4edf-934d-5bb7ad84fac9",
   "metadata": {},
   "source": [
    "## 1. What is a List?\n",
    "- collection of items that are ordered and mutable"
   ]
  },
  {
   "cell_type": "code",
   "execution_count": 90,
   "id": "7a84c1a0-6553-43d8-b5a7-e36d60e73382",
   "metadata": {},
   "outputs": [
    {
     "name": "stdout",
     "output_type": "stream",
     "text": [
      "my list : [1, 2, 3, 4, 5]\n"
     ]
    }
   ],
   "source": [
    "my_list = [1,2,3,4,5]\n",
    "print(\"my list :\", my_list)"
   ]
  },
  {
   "cell_type": "code",
   "execution_count": 91,
   "id": "f190b38b-65f2-44d8-a31b-e9b2a0803e73",
   "metadata": {},
   "outputs": [
    {
     "name": "stdout",
     "output_type": "stream",
     "text": [
      "mixed list: [1, 'hello', 1.23, True]\n"
     ]
    }
   ],
   "source": [
    "mixed_list = [1, \"hello\", 1.23, True]\n",
    "print(\"mixed list:\", mixed_list)"
   ]
  },
  {
   "cell_type": "code",
   "execution_count": 92,
   "id": "59b24186-360f-41b4-a23f-2d46bc0fb6d7",
   "metadata": {},
   "outputs": [
    {
     "name": "stdout",
     "output_type": "stream",
     "text": [
      "empty list  []\n",
      "after inserting elements: [10, 'hello world']\n"
     ]
    }
   ],
   "source": [
    "empty_list = []\n",
    "\n",
    "print(\"empty list \", empty_list)\n",
    "\n",
    "empty_list.append(10)\n",
    "empty_list.append(\"hello world\")\n",
    "print(\"after inserting elements:\", empty_list)"
   ]
  },
  {
   "cell_type": "code",
   "execution_count": null,
   "id": "62dc3a79-b2eb-4b57-a866-dcfe5ce9f0ea",
   "metadata": {},
   "outputs": [],
   "source": []
  },
  {
   "cell_type": "markdown",
   "id": "c81ed790-21dd-4353-bf4d-d59ccdb71a9d",
   "metadata": {},
   "source": [
    "## 2. Creating and Accessing Lists"
   ]
  },
  {
   "cell_type": "code",
   "execution_count": 95,
   "id": "905ee1cd-da8a-4725-b88c-a1ddee45d874",
   "metadata": {},
   "outputs": [],
   "source": [
    "my_list = [1, 2, 3, 4, 5]\n",
    "mixed_list = [10, 'Hello', 3.14, False]"
   ]
  },
  {
   "cell_type": "code",
   "execution_count": 96,
   "id": "455643d0-ca54-496c-8338-6a1f651dbd72",
   "metadata": {},
   "outputs": [
    {
     "name": "stdout",
     "output_type": "stream",
     "text": [
      "First element of my_list: 1\n",
      "Second element of mixed_list: Hello\n",
      "Last element of my_list: 5\n",
      "Second last element of mixed_list: 3.14\n"
     ]
    }
   ],
   "source": [
    "# Accessing elements by index\n",
    "print(\"First element of my_list:\", my_list[0])\n",
    "print(\"Second element of mixed_list:\", mixed_list[1])\n",
    "\n",
    "# Accessing the last element using negative indexing\n",
    "print(\"Last element of my_list:\", my_list[-1])\n",
    "print(\"Second last element of mixed_list:\", mixed_list[-2])\n"
   ]
  },
  {
   "cell_type": "code",
   "execution_count": 107,
   "id": "46839c7d-086e-49fb-866f-f4c60043ca7a",
   "metadata": {},
   "outputs": [
    {
     "name": "stdout",
     "output_type": "stream",
     "text": [
      "First three elements of my_list: [1, 2, 3]\n"
     ]
    }
   ],
   "source": [
    "# Slicing a list\n",
    "print(\"First three elements of my_list:\", my_list[0:3] )"
   ]
  },
  {
   "cell_type": "code",
   "execution_count": 108,
   "id": "61c8c7ce-b794-4ecd-b50a-97e5c9d97fa9",
   "metadata": {},
   "outputs": [
    {
     "data": {
      "text/plain": [
       "[1, 2, 3]"
      ]
     },
     "execution_count": 108,
     "metadata": {},
     "output_type": "execute_result"
    }
   ],
   "source": [
    "my_list[:3]"
   ]
  },
  {
   "cell_type": "code",
   "execution_count": 110,
   "id": "245eabe7-19b1-4974-bccb-9ff750c6b60f",
   "metadata": {},
   "outputs": [
    {
     "name": "stdout",
     "output_type": "stream",
     "text": [
      "Elements from index 2 to 4 in my_list: [3, 4, 5]\n"
     ]
    }
   ],
   "source": [
    "print(\"Elements from index 2 to 4 in my_list:\", my_list[2:5]  )"
   ]
  },
  {
   "cell_type": "code",
   "execution_count": 111,
   "id": "b8340c7d-2032-41f7-933d-4084a2c93597",
   "metadata": {},
   "outputs": [
    {
     "name": "stdout",
     "output_type": "stream",
     "text": [
      "Elements from index 1 to the end in mixed_list: ['Hello', 3.14, False]\n"
     ]
    }
   ],
   "source": [
    "print(\"Elements from index 1 to the end in mixed_list:\", mixed_list[1:] )"
   ]
  },
  {
   "cell_type": "code",
   "execution_count": null,
   "id": "6bd6d68c-bcb3-4444-bf7a-bbebf892b04c",
   "metadata": {},
   "outputs": [],
   "source": []
  },
  {
   "cell_type": "markdown",
   "id": "9ff7dce3-566d-4350-985f-c1e3d635e5f7",
   "metadata": {},
   "source": [
    "## 3. Modifying Lists"
   ]
  },
  {
   "cell_type": "code",
   "execution_count": 149,
   "id": "28bef150-0821-4fc2-b56b-822ec4bf2a28",
   "metadata": {},
   "outputs": [
    {
     "name": "stdout",
     "output_type": "stream",
     "text": [
      "original list: [1, 2, 3, 4, 5]\n"
     ]
    }
   ],
   "source": [
    "my_list = [1,2,3,4,5]\n",
    "print(\"original list:\", my_list)\n"
   ]
  },
  {
   "cell_type": "code",
   "execution_count": 150,
   "id": "80e5963a-d2f3-413f-b8ff-ce90cf2caac9",
   "metadata": {},
   "outputs": [
    {
     "name": "stdout",
     "output_type": "stream",
     "text": [
      "list after changing the seconds element ( 1st index) [1, 10, 3, 4, 5]\n"
     ]
    }
   ],
   "source": [
    "my_list[1] = 10\n",
    "print(\"list after changing the seconds element ( 1st index)\", my_list)"
   ]
  },
  {
   "cell_type": "code",
   "execution_count": 151,
   "id": "66286070-d3ae-4f15-a7b2-0cb1a8186164",
   "metadata": {},
   "outputs": [
    {
     "name": "stdout",
     "output_type": "stream",
     "text": [
      "list after appending 6 [1, 10, 3, 4, 5, 6]\n"
     ]
    }
   ],
   "source": [
    "# append()\n",
    "my_list.append(6)\n",
    "print(\"list after appending 6\", my_list)"
   ]
  },
  {
   "cell_type": "code",
   "execution_count": 152,
   "id": "ca599f2b-06ba-4a09-81bd-16321ee0a16e",
   "metadata": {},
   "outputs": [
    {
     "name": "stdout",
     "output_type": "stream",
     "text": [
      "list after inserting 'a' at index 2 [1, 10, 'a', 3, 4, 5, 6]\n"
     ]
    }
   ],
   "source": [
    "# insert()\n",
    "my_list.insert(2,\"a\")\n",
    "print(\"list after inserting 'a' at index 2\", my_list)"
   ]
  },
  {
   "cell_type": "code",
   "execution_count": 153,
   "id": "4cb5942c-2a39-4b0f-8cfb-315abfe26047",
   "metadata": {},
   "outputs": [
    {
     "name": "stdout",
     "output_type": "stream",
     "text": [
      "list after extending with [7,8,9]: [1, 10, 'a', 3, 4, 5, 6, 7, 8, 9]\n"
     ]
    }
   ],
   "source": [
    "# extend()\n",
    "my_list.extend([7,8,9])\n",
    "print(\"list after extending with [7,8,9]:\", my_list)"
   ]
  },
  {
   "cell_type": "code",
   "execution_count": 155,
   "id": "d3b4377f-5218-4d18-97f0-5d3b27027015",
   "metadata": {},
   "outputs": [
    {
     "name": "stdout",
     "output_type": "stream",
     "text": [
      "list after removing 'a': [1, 10, 3, 4, 5, 6, 7, 8, 9]\n"
     ]
    }
   ],
   "source": [
    "#remove()\n",
    "my_list.remove('a')\n",
    "print(\"list after removing 'a':\", my_list)"
   ]
  },
  {
   "cell_type": "code",
   "execution_count": 156,
   "id": "09598ed5-9293-4858-b269-de6671997e12",
   "metadata": {},
   "outputs": [
    {
     "ename": "ValueError",
     "evalue": "list.remove(x): x not in list",
     "output_type": "error",
     "traceback": [
      "\u001b[1;31m---------------------------------------------------------------------------\u001b[0m",
      "\u001b[1;31mValueError\u001b[0m                                Traceback (most recent call last)",
      "Cell \u001b[1;32mIn[156], line 1\u001b[0m\n\u001b[1;32m----> 1\u001b[0m my_list\u001b[38;5;241m.\u001b[39mremove(\u001b[38;5;124m'\u001b[39m\u001b[38;5;124ma\u001b[39m\u001b[38;5;124m'\u001b[39m)\n",
      "\u001b[1;31mValueError\u001b[0m: list.remove(x): x not in list"
     ]
    }
   ],
   "source": [
    "my_list.remove('a')"
   ]
  },
  {
   "cell_type": "code",
   "execution_count": 157,
   "id": "882b5efb-f20c-4b10-b45c-a2642611d0e1",
   "metadata": {},
   "outputs": [],
   "source": [
    "#pop()\n",
    "popped_ele = my_list.pop(3)"
   ]
  },
  {
   "cell_type": "code",
   "execution_count": 158,
   "id": "fa393e2a-bfaf-4a0a-b180-3448e2ff1ab8",
   "metadata": {},
   "outputs": [
    {
     "name": "stdout",
     "output_type": "stream",
     "text": [
      "list after popping element at index 3: [1, 10, 3, 5, 6, 7, 8, 9]\n",
      "popped element:  4\n"
     ]
    }
   ],
   "source": [
    "print(\"list after popping element at index 3:\", my_list)\n",
    "print(\"popped element: \", popped_ele)\n",
    "      "
   ]
  },
  {
   "cell_type": "code",
   "execution_count": 159,
   "id": "0512dd85-2dcc-4a5c-92ef-4cefcd1cc0e9",
   "metadata": {},
   "outputs": [
    {
     "ename": "IndexError",
     "evalue": "pop index out of range",
     "output_type": "error",
     "traceback": [
      "\u001b[1;31m---------------------------------------------------------------------------\u001b[0m",
      "\u001b[1;31mIndexError\u001b[0m                                Traceback (most recent call last)",
      "Cell \u001b[1;32mIn[159], line 1\u001b[0m\n\u001b[1;32m----> 1\u001b[0m my_list\u001b[38;5;241m.\u001b[39mpop(\u001b[38;5;241m100\u001b[39m)\n",
      "\u001b[1;31mIndexError\u001b[0m: pop index out of range"
     ]
    }
   ],
   "source": [
    "my_list.pop(100)"
   ]
  },
  {
   "cell_type": "code",
   "execution_count": 160,
   "id": "45b5f702-ed9f-418d-a76c-b97e7652e3c9",
   "metadata": {},
   "outputs": [
    {
     "name": "stdout",
     "output_type": "stream",
     "text": [
      "list after deleting element at index 2:  [1, 10, 5, 6, 7, 8, 9]\n"
     ]
    }
   ],
   "source": [
    "#del\n",
    "del my_list[2]\n",
    "print(\"list after deleting element at index 2: \", my_list)"
   ]
  },
  {
   "cell_type": "code",
   "execution_count": 162,
   "id": "6283bb8b-ab2a-4fc6-8236-ed4873a4df8d",
   "metadata": {},
   "outputs": [
    {
     "ename": "IndexError",
     "evalue": "list assignment index out of range",
     "output_type": "error",
     "traceback": [
      "\u001b[1;31m---------------------------------------------------------------------------\u001b[0m",
      "\u001b[1;31mIndexError\u001b[0m                                Traceback (most recent call last)",
      "Cell \u001b[1;32mIn[162], line 1\u001b[0m\n\u001b[1;32m----> 1\u001b[0m \u001b[38;5;28;01mdel\u001b[39;00m my_list[\u001b[38;5;241m200\u001b[39m]\n",
      "\u001b[1;31mIndexError\u001b[0m: list assignment index out of range"
     ]
    }
   ],
   "source": [
    "del my_list[200] # index out of range error"
   ]
  },
  {
   "cell_type": "code",
   "execution_count": null,
   "id": "cb00bd70-ccdf-4867-b929-6b3652dcc00b",
   "metadata": {},
   "outputs": [],
   "source": []
  },
  {
   "cell_type": "markdown",
   "id": "fea88f6d-8507-4d3f-ba85-2f6e4d4369da",
   "metadata": {},
   "source": [
    "## 4. List Operations\n",
    "- slicing and  built-in methods"
   ]
  },
  {
   "cell_type": "code",
   "execution_count": 188,
   "id": "35f563ed-e281-48d7-8051-36457d993a50",
   "metadata": {},
   "outputs": [],
   "source": [
    "# slicing :  start index, an end index, and an optional step.\n",
    "my_list = [0,1,2,3,4,5,6,7,8,9]\n"
   ]
  },
  {
   "cell_type": "code",
   "execution_count": 195,
   "id": "e528f399-cb83-4b18-b664-a5ebe70dae30",
   "metadata": {},
   "outputs": [
    {
     "data": {
      "text/plain": [
       "[0, 1, 2, 3, 4, 5, 6, 7, 8, 9]"
      ]
     },
     "execution_count": 195,
     "metadata": {},
     "output_type": "execute_result"
    }
   ],
   "source": [
    "my_list"
   ]
  },
  {
   "cell_type": "code",
   "execution_count": 196,
   "id": "627289f2-3f03-49e8-8015-c68038a2f7d1",
   "metadata": {},
   "outputs": [
    {
     "name": "stdout",
     "output_type": "stream",
     "text": [
      "Slicing from start to index 5: [0, 1, 2, 3, 4]\n"
     ]
    }
   ],
   "source": [
    "# Start the slice object at position 0, and slice to position 5\n",
    "print(\"Slicing from start to index 5:\", my_list[0:5] )"
   ]
  },
  {
   "cell_type": "code",
   "execution_count": 197,
   "id": "34540a0a-2952-4d2b-b4e2-d06d9d5ce139",
   "metadata": {},
   "outputs": [
    {
     "name": "stdout",
     "output_type": "stream",
     "text": [
      "Slicing from index 3 to the end: [3, 4, 5, 6, 7, 8, 9]\n"
     ]
    }
   ],
   "source": [
    "# Start the slice object at position 3, and slice to position 5\n",
    "print(\"Slicing from index 3 to the end:\", my_list[3:])"
   ]
  },
  {
   "cell_type": "code",
   "execution_count": 198,
   "id": "0754ca03-93da-48e8-a21a-55a572490ce9",
   "metadata": {},
   "outputs": [
    {
     "name": "stdout",
     "output_type": "stream",
     "text": [
      "Slicing with a step of 2: [0, 2, 4, 6, 8]\n"
     ]
    }
   ],
   "source": [
    "# Use the step parameter to return every second item:\n",
    "print(\"Slicing with a step of 2:\", my_list[::2])"
   ]
  },
  {
   "cell_type": "code",
   "execution_count": 199,
   "id": "9f1ed34b-409e-4b75-899a-5f8c99d64586",
   "metadata": {},
   "outputs": [
    {
     "name": "stdout",
     "output_type": "stream",
     "text": [
      "Slicing from index 2 to 8 with a step of 2: [2, 4, 6]\n"
     ]
    }
   ],
   "source": [
    "print(\"Slicing from index 2 to 8 with a step of 2:\", my_list[2:8:2])"
   ]
  },
  {
   "cell_type": "code",
   "execution_count": 200,
   "id": "4d716d16-94e1-4ede-bcad-e11ee04d5aa3",
   "metadata": {},
   "outputs": [],
   "source": [
    "# common List methods"
   ]
  },
  {
   "cell_type": "code",
   "execution_count": 201,
   "id": "29460fca-9c1c-45ce-a754-da360415d279",
   "metadata": {},
   "outputs": [],
   "source": [
    "my_list = [3, 1, 4, 1, 5, 9, 2, 6, 5, 3, 5]"
   ]
  },
  {
   "cell_type": "code",
   "execution_count": 202,
   "id": "aa3f8f07-b3dc-4869-a8a5-f8c1e1d48d5a",
   "metadata": {},
   "outputs": [
    {
     "data": {
      "text/plain": [
       "11"
      ]
     },
     "execution_count": 202,
     "metadata": {},
     "output_type": "execute_result"
    }
   ],
   "source": [
    "len(my_list)"
   ]
  },
  {
   "cell_type": "code",
   "execution_count": 203,
   "id": "755a83a0-ff85-4d2f-9c3b-8ab869508ba7",
   "metadata": {},
   "outputs": [
    {
     "data": {
      "text/plain": [
       "1"
      ]
     },
     "execution_count": 203,
     "metadata": {},
     "output_type": "execute_result"
    }
   ],
   "source": [
    "min(my_list)"
   ]
  },
  {
   "cell_type": "code",
   "execution_count": 204,
   "id": "b79bfff3-c4fd-47e3-8b32-effa3099b03f",
   "metadata": {},
   "outputs": [
    {
     "data": {
      "text/plain": [
       "9"
      ]
     },
     "execution_count": 204,
     "metadata": {},
     "output_type": "execute_result"
    }
   ],
   "source": [
    "max(my_list)"
   ]
  },
  {
   "cell_type": "code",
   "execution_count": 205,
   "id": "15fc1c0a-c5f1-42b0-9625-40615943d4ff",
   "metadata": {},
   "outputs": [
    {
     "data": {
      "text/plain": [
       "44"
      ]
     },
     "execution_count": 205,
     "metadata": {},
     "output_type": "execute_result"
    }
   ],
   "source": [
    "sum(my_list)"
   ]
  },
  {
   "cell_type": "code",
   "execution_count": 206,
   "id": "b982bfc0-d71c-4a3c-9aed-0eba8f962b90",
   "metadata": {},
   "outputs": [
    {
     "data": {
      "text/plain": [
       "4"
      ]
     },
     "execution_count": 206,
     "metadata": {},
     "output_type": "execute_result"
    }
   ],
   "source": [
    "my_list.index(5)"
   ]
  },
  {
   "cell_type": "code",
   "execution_count": 208,
   "id": "0ace1b97-ed0e-47c0-99cd-5890a65f4585",
   "metadata": {},
   "outputs": [
    {
     "data": {
      "text/plain": [
       "1"
      ]
     },
     "execution_count": 208,
     "metadata": {},
     "output_type": "execute_result"
    }
   ],
   "source": [
    "my_list.index(1)"
   ]
  },
  {
   "cell_type": "code",
   "execution_count": 209,
   "id": "22f462f4-02cf-4a44-be35-8b67af7ab432",
   "metadata": {},
   "outputs": [
    {
     "data": {
      "text/plain": [
       "3"
      ]
     },
     "execution_count": 209,
     "metadata": {},
     "output_type": "execute_result"
    }
   ],
   "source": [
    "my_list.count(5)"
   ]
  },
  {
   "cell_type": "code",
   "execution_count": 210,
   "id": "c061a46f-27fc-4c2b-9970-36d4e413e9ef",
   "metadata": {},
   "outputs": [],
   "source": [
    "my_list.sort()"
   ]
  },
  {
   "cell_type": "code",
   "execution_count": 211,
   "id": "4c5b5145-761d-4b2e-a580-7ceb00284b9a",
   "metadata": {},
   "outputs": [
    {
     "data": {
      "text/plain": [
       "[1, 1, 2, 3, 3, 4, 5, 5, 5, 6, 9]"
      ]
     },
     "execution_count": 211,
     "metadata": {},
     "output_type": "execute_result"
    }
   ],
   "source": [
    "my_list"
   ]
  },
  {
   "cell_type": "code",
   "execution_count": 212,
   "id": "47557ed3-ede2-4bc0-86ba-15e0f14b9e68",
   "metadata": {},
   "outputs": [],
   "source": [
    "my_list.reverse()"
   ]
  },
  {
   "cell_type": "code",
   "execution_count": 214,
   "id": "cb8918be-ecdf-4b5e-a113-f22e9ac60ff6",
   "metadata": {},
   "outputs": [
    {
     "data": {
      "text/plain": [
       "[9, 6, 5, 5, 5, 4, 3, 3, 2, 1, 1]"
      ]
     },
     "execution_count": 214,
     "metadata": {},
     "output_type": "execute_result"
    }
   ],
   "source": [
    "my_list"
   ]
  },
  {
   "cell_type": "code",
   "execution_count": 216,
   "id": "da6e2b2b-4bcb-4173-97df-89e2f8d8bb4b",
   "metadata": {},
   "outputs": [
    {
     "data": {
      "text/plain": [
       "[1, 1, 2, 3, 3, 4, 5, 5, 5, 6, 9]"
      ]
     },
     "execution_count": 216,
     "metadata": {},
     "output_type": "execute_result"
    }
   ],
   "source": [
    "my_list[::-1]"
   ]
  },
  {
   "cell_type": "code",
   "execution_count": 217,
   "id": "0e706798-d216-4dcd-9466-5254016b3b6f",
   "metadata": {},
   "outputs": [
    {
     "data": {
      "text/plain": [
       "[9, 6, 5, 5, 5, 4, 3, 3, 2, 1, 1]"
      ]
     },
     "execution_count": 217,
     "metadata": {},
     "output_type": "execute_result"
    }
   ],
   "source": [
    "my_list"
   ]
  },
  {
   "cell_type": "code",
   "execution_count": 218,
   "id": "35462548-db59-4680-90b9-125c1e242e7b",
   "metadata": {},
   "outputs": [
    {
     "data": {
      "text/plain": [
       "[1, 1, 2, 3, 3, 4, 5, 5, 5, 6, 9]"
      ]
     },
     "execution_count": 218,
     "metadata": {},
     "output_type": "execute_result"
    }
   ],
   "source": [
    "new_list = my_list[::-1]\n",
    "new_list"
   ]
  },
  {
   "cell_type": "markdown",
   "id": "cb5a4b6d-da94-4a57-9349-7d189f3972f4",
   "metadata": {},
   "source": [
    "## 5. Looping through Lists"
   ]
  },
  {
   "cell_type": "code",
   "execution_count": 219,
   "id": "7efe3c83-4f46-4a44-859e-e48e9f7bcfbb",
   "metadata": {},
   "outputs": [],
   "source": [
    "# for loop"
   ]
  },
  {
   "cell_type": "code",
   "execution_count": 223,
   "id": "87b80696-5e56-4375-af2f-45efb458a1aa",
   "metadata": {},
   "outputs": [],
   "source": [
    "fruits = [\"apple\", \"banana\", \"cherry\", \"date\"]"
   ]
  },
  {
   "cell_type": "code",
   "execution_count": 224,
   "id": "480046eb-514a-4d05-80c7-b59735a5bfb2",
   "metadata": {},
   "outputs": [
    {
     "name": "stdout",
     "output_type": "stream",
     "text": [
      "apple\n",
      "banana\n",
      "cherry\n",
      "date\n"
     ]
    }
   ],
   "source": [
    "for fruit in fruits:\n",
    "    print(fruit)"
   ]
  },
  {
   "cell_type": "code",
   "execution_count": 225,
   "id": "8b825304-8259-44c4-ae5e-f8dee2727974",
   "metadata": {},
   "outputs": [
    {
     "name": "stdout",
     "output_type": "stream",
     "text": [
      "index: 0, fruit: apple\n",
      "index: 1, fruit: banana\n",
      "index: 2, fruit: cherry\n",
      "index: 3, fruit: date\n"
     ]
    }
   ],
   "source": [
    "for index, fruit in enumerate(fruits):\n",
    "    print(f\"index: {index}, fruit: {fruit}\" )"
   ]
  },
  {
   "cell_type": "code",
   "execution_count": 226,
   "id": "7211159e-27e8-4312-b444-0743e3baeb91",
   "metadata": {},
   "outputs": [],
   "source": [
    "# while loop"
   ]
  },
  {
   "cell_type": "code",
   "execution_count": 227,
   "id": "8289f6f8-52c9-4440-968a-43eb9f031d4b",
   "metadata": {},
   "outputs": [
    {
     "name": "stdout",
     "output_type": "stream",
     "text": [
      "apple\n",
      "banana\n",
      "cherry\n",
      "date\n"
     ]
    }
   ],
   "source": [
    "i = 0\n",
    "while i< len(fruits):\n",
    "    print(fruits[i])\n",
    "    i = i+1"
   ]
  },
  {
   "cell_type": "code",
   "execution_count": 228,
   "id": "37b4c32d-d64c-4dbe-a93e-9be5cbd5fb6a",
   "metadata": {},
   "outputs": [
    {
     "data": {
      "text/plain": [
       "4"
      ]
     },
     "execution_count": 228,
     "metadata": {},
     "output_type": "execute_result"
    }
   ],
   "source": [
    "len(fruits)"
   ]
  },
  {
   "cell_type": "markdown",
   "id": "4da2ef81-a9b2-4b56-854b-4693d591faea",
   "metadata": {},
   "source": [
    "##  Practical Examples and Best Practices"
   ]
  },
  {
   "cell_type": "code",
   "execution_count": 229,
   "id": "6783afd3-eb9d-4bd2-b59d-4d0074267148",
   "metadata": {},
   "outputs": [
    {
     "name": "stdout",
     "output_type": "stream",
     "text": [
      "Original list: [1, 2, 3, 4]\n",
      "Copied list: [1, 2, 3, 4]\n"
     ]
    }
   ],
   "source": [
    "# Using the Wrong Method for Copying a List\n",
    "# Incorrect way: Using assignment to copy a list\n",
    "original_list = [1, 2, 3]\n",
    "copied_list = original_list\n",
    "copied_list.append(4)\n",
    "print(\"Original list:\", original_list)\n",
    "print(\"Copied list:\", copied_list)\n"
   ]
  },
  {
   "cell_type": "code",
   "execution_count": 230,
   "id": "ce13e14b-68c7-4e40-83f3-0f94da400235",
   "metadata": {},
   "outputs": [],
   "source": [
    "# copy()"
   ]
  },
  {
   "cell_type": "code",
   "execution_count": 231,
   "id": "d501dec4-84df-4321-a41c-1134b03efd9a",
   "metadata": {},
   "outputs": [
    {
     "name": "stdout",
     "output_type": "stream",
     "text": [
      "Original list: [1, 2, 3]\n",
      "Copied list: [1, 2, 3, 4]\n"
     ]
    }
   ],
   "source": [
    "# Correct way: Using copy() method\n",
    "original_list = [1, 2, 3]\n",
    "copied_list = original_list.copy()\n",
    "copied_list.append(4)\n",
    "print(\"Original list:\", original_list)\n",
    "print(\"Copied list:\", copied_list)\n",
    "\n"
   ]
  },
  {
   "cell_type": "markdown",
   "id": "3cd03e3d-9755-4456-a4b6-007803561941",
   "metadata": {},
   "source": [
    "## list comprehension\n",
    "- List comprehensions can be used for looping, especially when you want to create a new list based on the elements of an existing list.\n",
    "- provide a concise way to create new lists based on existing ones\n",
    "- makes your code more concise and readable"
   ]
  },
  {
   "cell_type": "code",
   "execution_count": 232,
   "id": "18d646a9-78c3-4796-b795-f3c8b2c4fa62",
   "metadata": {},
   "outputs": [
    {
     "name": "stdout",
     "output_type": "stream",
     "text": [
      "square using for loop: [1, 4, 9, 16, 25]\n"
     ]
    }
   ],
   "source": [
    "\n",
    "numbers = [1,2,3,4,5]\n",
    "\n",
    "square = []\n",
    "for num in numbers:\n",
    "    square.append(num **2)\n",
    "\n",
    "print(\"square using for loop:\", square)"
   ]
  },
  {
   "cell_type": "code",
   "execution_count": 233,
   "id": "8af85820-3de1-439f-bb6b-9ad54d28c35f",
   "metadata": {},
   "outputs": [
    {
     "name": "stdout",
     "output_type": "stream",
     "text": [
      "squares using list comprehension: [1, 4, 9, 16, 25]\n"
     ]
    }
   ],
   "source": [
    "squares_comprehension = [num**2 for num in numbers]\n",
    "\n",
    "print(\"squares using list comprehension:\", squares_comprehension)"
   ]
  },
  {
   "cell_type": "code",
   "execution_count": null,
   "id": "7d47a3ae-27d7-49e2-957a-9cead2a67c4f",
   "metadata": {},
   "outputs": [],
   "source": []
  },
  {
   "cell_type": "markdown",
   "id": "dfa30de7-4b81-4d44-9ea1-c2f0edf3a42c",
   "metadata": {},
   "source": [
    "### Use enumerate() for Index and Value\n",
    "\n",
    "- makes it easy to get both the index and the value while looping through a list"
   ]
  },
  {
   "cell_type": "code",
   "execution_count": 245,
   "id": "f8cfc59b-efb4-4c74-b6ff-209e9eecc4b0",
   "metadata": {},
   "outputs": [
    {
     "name": "stdout",
     "output_type": "stream",
     "text": [
      "Index 0: apple\n",
      "Index 1: banana\n",
      "Index 2: cherry\n"
     ]
    }
   ],
   "source": [
    "# Using enumerate() for index and value\n",
    "fruits = [\"apple\", \"banana\", \"cherry\"]\n",
    "for index, fruit in enumerate(fruits):\n",
    "    print(f\"Index {index}: {fruit}\")\n"
   ]
  },
  {
   "cell_type": "markdown",
   "id": "48ad615c-e1d6-4084-a3cb-131e29abc292",
   "metadata": {},
   "source": [
    "### Use Built-in Functions for Common Operations \n",
    "- Built-in functions like sum(), max(), and min() are efficient and make your code more readable.\n",
    "- They are optimized for performance, making your code run faster.\n",
    "- Using them reduces the likelihood of errors.\n",
    "- They ensure consistency, making your code easier to maintain and understand.\n"
   ]
  },
  {
   "cell_type": "code",
   "execution_count": 246,
   "id": "f1f091ef-d6b3-4d8b-b1cd-1103e77a13c8",
   "metadata": {},
   "outputs": [
    {
     "name": "stdout",
     "output_type": "stream",
     "text": [
      "Sum: 150\n",
      "Max: 50\n",
      "Min: 10\n"
     ]
    }
   ],
   "source": [
    "# Using built-in functions for common operations\n",
    "numbers = [10, 20, 30, 40, 50]\n",
    "print(\"Sum:\", sum(numbers))\n",
    "print(\"Max:\", max(numbers))\n",
    "print(\"Min:\", min(numbers))\n"
   ]
  },
  {
   "cell_type": "markdown",
   "id": "6be28658-bf93-4fd1-9828-08406113eede",
   "metadata": {},
   "source": [
    "### use list comprehensions:\n",
    "- makes your code more concise and readable"
   ]
  },
  {
   "cell_type": "code",
   "execution_count": 240,
   "id": "b83cc8e7-22a4-4b5c-9883-785753dea603",
   "metadata": {},
   "outputs": [
    {
     "name": "stdout",
     "output_type": "stream",
     "text": [
      "Squares: [0, 1, 4, 9, 16, 25, 36, 49, 64, 81]\n"
     ]
    }
   ],
   "source": [
    "# Using list comprehension for concise code\n",
    "squares = [x**2 for x in range(10)]\n",
    "print(\"Squares:\", squares)\n"
   ]
  },
  {
   "cell_type": "code",
   "execution_count": null,
   "id": "0dc2050f-1d25-41c9-9518-6636e8f6223f",
   "metadata": {},
   "outputs": [],
   "source": []
  }
 ],
 "metadata": {
  "kernelspec": {
   "display_name": "Python 3 (ipykernel)",
   "language": "python",
   "name": "python3"
  },
  "language_info": {
   "codemirror_mode": {
    "name": "ipython",
    "version": 3
   },
   "file_extension": ".py",
   "mimetype": "text/x-python",
   "name": "python",
   "nbconvert_exporter": "python",
   "pygments_lexer": "ipython3",
   "version": "3.11.7"
  }
 },
 "nbformat": 4,
 "nbformat_minor": 5
}
