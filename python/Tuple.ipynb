{
 "cells": [
  {
   "cell_type": "markdown",
   "id": "e3bca36b-1c3c-43d3-8702-d5f104325a36",
   "metadata": {},
   "source": [
    "# Tuples\n",
    "\n",
    "### What is a Tuple?\n",
    "### Creating Tuples\n",
    "### Accessing Tuple Elements\n",
    "### Tuple Operations\n",
    "### Tuple Methods\n",
    "### Immutability of Tuples"
   ]
  },
  {
   "cell_type": "markdown",
   "id": "0b91176e-1eb8-4dc7-a94d-c7380d57fc7e",
   "metadata": {},
   "source": [
    "#### What is a Tuple\n",
    "- a tuple is a collection of ordered, immutable items. They are similar to lists, but unlike lists, they cannot be changed after their creation."
   ]
  },
  {
   "cell_type": "code",
   "execution_count": 17,
   "id": "baffbd90-c2cb-488f-9a37-e0f73a63ae53",
   "metadata": {},
   "outputs": [
    {
     "name": "stdout",
     "output_type": "stream",
     "text": [
      "[1, 2, 3, 4]\n"
     ]
    }
   ],
   "source": [
    "lst = [1,2,3,4]\n",
    "print(lst)"
   ]
  },
  {
   "cell_type": "code",
   "execution_count": 18,
   "id": "dd2d4fe2-cad5-4f07-a236-f6afe5c859bd",
   "metadata": {},
   "outputs": [
    {
     "name": "stdout",
     "output_type": "stream",
     "text": [
      "[10, 2, 3, 4]\n"
     ]
    }
   ],
   "source": [
    "lst[0] = 10\n",
    "print(lst)"
   ]
  },
  {
   "cell_type": "code",
   "execution_count": 19,
   "id": "cab295fb-aa89-4cf7-a438-4a58a84b6d5e",
   "metadata": {},
   "outputs": [
    {
     "name": "stdout",
     "output_type": "stream",
     "text": [
      "()\n"
     ]
    }
   ],
   "source": [
    "my_tuple = ()\n",
    "print(my_tuple)"
   ]
  },
  {
   "cell_type": "code",
   "execution_count": 23,
   "id": "3d800fae-aecc-4ab5-ada1-3e277c5ff73f",
   "metadata": {},
   "outputs": [
    {
     "data": {
      "text/plain": [
       "(12,)"
      ]
     },
     "execution_count": 23,
     "metadata": {},
     "output_type": "execute_result"
    }
   ],
   "source": [
    "single_ele_tuple = (12,)\n",
    "single_ele_tuple"
   ]
  },
  {
   "cell_type": "code",
   "execution_count": 24,
   "id": "2ed2f6b3-08fe-427b-9580-2e9935478abb",
   "metadata": {},
   "outputs": [
    {
     "data": {
      "text/plain": [
       "tuple"
      ]
     },
     "execution_count": 24,
     "metadata": {},
     "output_type": "execute_result"
    }
   ],
   "source": [
    "type(single_ele_tuple)"
   ]
  },
  {
   "cell_type": "code",
   "execution_count": 22,
   "id": "6ce2af14-7e33-4c68-ab50-1bb124003859",
   "metadata": {},
   "outputs": [
    {
     "data": {
      "text/plain": [
       "tuple"
      ]
     },
     "execution_count": 22,
     "metadata": {},
     "output_type": "execute_result"
    }
   ],
   "source": [
    "type(my_tuple)"
   ]
  },
  {
   "cell_type": "code",
   "execution_count": 25,
   "id": "8a1fdb4a-6e55-4f94-9b96-3a34edd54a76",
   "metadata": {},
   "outputs": [
    {
     "name": "stdout",
     "output_type": "stream",
     "text": [
      "(1, 2, 3)\n"
     ]
    }
   ],
   "source": [
    "multi_ele_tuple = (1,2,3)\n",
    "print(multi_ele_tuple)"
   ]
  },
  {
   "cell_type": "code",
   "execution_count": 74,
   "id": "1929610e-7bad-46e4-96d4-c4897593d42f",
   "metadata": {},
   "outputs": [
    {
     "data": {
      "text/plain": [
       "(1, 2, 3, 4)"
      ]
     },
     "execution_count": 74,
     "metadata": {},
     "output_type": "execute_result"
    }
   ],
   "source": [
    "my_tuple = 1,2,3,4\n",
    "\n",
    "my_tuple"
   ]
  },
  {
   "cell_type": "code",
   "execution_count": 28,
   "id": "a15f8746-19d3-484b-ab59-8716ccee4cb6",
   "metadata": {},
   "outputs": [
    {
     "name": "stdout",
     "output_type": "stream",
     "text": [
      "my tuple : (1, 2, 3, 'a', 'hello', True, 2.32)\n"
     ]
    }
   ],
   "source": [
    "# Accessing Tuple Element\n",
    "\n",
    "my_tuple = (1,2,3,'a','hello', True,2.32)\n",
    "print(f\"my tuple : {my_tuple}\")"
   ]
  },
  {
   "cell_type": "code",
   "execution_count": 29,
   "id": "b26190fd-f2c1-4e34-a119-83731308040a",
   "metadata": {},
   "outputs": [
    {
     "data": {
      "text/plain": [
       "1"
      ]
     },
     "execution_count": 29,
     "metadata": {},
     "output_type": "execute_result"
    }
   ],
   "source": [
    "my_tuple[0]"
   ]
  },
  {
   "cell_type": "code",
   "execution_count": 30,
   "id": "57a8db2c-ee17-4808-9059-1b1c08a0e452",
   "metadata": {},
   "outputs": [
    {
     "data": {
      "text/plain": [
       "2"
      ]
     },
     "execution_count": 30,
     "metadata": {},
     "output_type": "execute_result"
    }
   ],
   "source": [
    "my_tuple[1]"
   ]
  },
  {
   "cell_type": "code",
   "execution_count": 31,
   "id": "8734ee21-f24e-44ea-bb4d-f2716a23582b",
   "metadata": {},
   "outputs": [
    {
     "data": {
      "text/plain": [
       "2.32"
      ]
     },
     "execution_count": 31,
     "metadata": {},
     "output_type": "execute_result"
    }
   ],
   "source": [
    "my_tuple[-1]"
   ]
  },
  {
   "cell_type": "code",
   "execution_count": 32,
   "id": "fb0d9733-d1dc-4d29-9f6f-de802c697d6b",
   "metadata": {},
   "outputs": [
    {
     "data": {
      "text/plain": [
       "(2, 3, 'a')"
      ]
     },
     "execution_count": 32,
     "metadata": {},
     "output_type": "execute_result"
    }
   ],
   "source": [
    "my_tuple[1:4]"
   ]
  },
  {
   "cell_type": "code",
   "execution_count": 33,
   "id": "261ec55a-6f52-4170-ab9a-3f5c14f520b2",
   "metadata": {},
   "outputs": [
    {
     "name": "stdout",
     "output_type": "stream",
     "text": [
      "concatenated tuple: (1, 2, 3, 'a', 'b', 'c')\n"
     ]
    }
   ],
   "source": [
    "# Tuple Operations\n",
    "\n",
    "t1 = (1,2,3)\n",
    "t2 = ('a', 'b', 'c')\n",
    "\n",
    "# concatenation\n",
    "\n",
    "combined_tuple = t1 + t2\n",
    "print(\"concatenated tuple:\", combined_tuple)"
   ]
  },
  {
   "cell_type": "code",
   "execution_count": 63,
   "id": "33ed8aca-5e41-4167-8f55-52b61849af3b",
   "metadata": {},
   "outputs": [
    {
     "name": "stdout",
     "output_type": "stream",
     "text": [
      "(1, 2, 3, 1, 2, 3, 1, 2, 3)\n"
     ]
    }
   ],
   "source": [
    "# repetition\n",
    "repeated_tuple = t1 * 3\n",
    "print(repeated_tuple)"
   ]
  },
  {
   "cell_type": "code",
   "execution_count": 64,
   "id": "57df0e27-3e12-484c-886c-e3e8529a888a",
   "metadata": {},
   "outputs": [
    {
     "data": {
      "text/plain": [
       "True"
      ]
     },
     "execution_count": 64,
     "metadata": {},
     "output_type": "execute_result"
    }
   ],
   "source": [
    "# membership\n",
    "2 in t1\n"
   ]
  },
  {
   "cell_type": "code",
   "execution_count": 65,
   "id": "0683e730-1e59-4c4d-b3e6-e011e8fef1be",
   "metadata": {},
   "outputs": [
    {
     "data": {
      "text/plain": [
       "False"
      ]
     },
     "execution_count": 65,
     "metadata": {},
     "output_type": "execute_result"
    }
   ],
   "source": [
    "200 in t1"
   ]
  },
  {
   "cell_type": "code",
   "execution_count": 66,
   "id": "6b315c09-bfe6-4532-8acd-db49a2fa6c00",
   "metadata": {},
   "outputs": [
    {
     "data": {
      "text/plain": [
       "3"
      ]
     },
     "execution_count": 66,
     "metadata": {},
     "output_type": "execute_result"
    }
   ],
   "source": [
    "# tuple methods\n",
    "my_tuple = (1,2,3,2,4,2)\n",
    "my_tuple.count(2)\n"
   ]
  },
  {
   "cell_type": "code",
   "execution_count": 67,
   "id": "36b8dc84-8629-44d7-bfee-89dc4b3e97bd",
   "metadata": {},
   "outputs": [
    {
     "data": {
      "text/plain": [
       "2"
      ]
     },
     "execution_count": 67,
     "metadata": {},
     "output_type": "execute_result"
    }
   ],
   "source": [
    "my_tuple.index(3)"
   ]
  },
  {
   "cell_type": "code",
   "execution_count": 68,
   "id": "73a56cb7-3267-43af-bf75-fd497b092df6",
   "metadata": {},
   "outputs": [
    {
     "ename": "TypeError",
     "evalue": "'tuple' object does not support item assignment",
     "output_type": "error",
     "traceback": [
      "\u001b[1;31m---------------------------------------------------------------------------\u001b[0m",
      "\u001b[1;31mTypeError\u001b[0m                                 Traceback (most recent call last)",
      "Cell \u001b[1;32mIn[68], line 3\u001b[0m\n\u001b[0;32m      1\u001b[0m \u001b[38;5;66;03m# Immutability of Tuples\u001b[39;00m\n\u001b[0;32m      2\u001b[0m my_tuple \u001b[38;5;241m=\u001b[39m (\u001b[38;5;241m1\u001b[39m,\u001b[38;5;241m2\u001b[39m,\u001b[38;5;241m3\u001b[39m)\n\u001b[1;32m----> 3\u001b[0m my_tuple[\u001b[38;5;241m0\u001b[39m] \u001b[38;5;241m=\u001b[39m \u001b[38;5;241m100\u001b[39m\n",
      "\u001b[1;31mTypeError\u001b[0m: 'tuple' object does not support item assignment"
     ]
    }
   ],
   "source": [
    "# Immutability of Tuples\n",
    "my_tuple = (1,2,3)\n",
    "my_tuple[0] = 100"
   ]
  },
  {
   "cell_type": "code",
   "execution_count": null,
   "id": "afc7a811-122c-4011-b50c-64d2dd261755",
   "metadata": {},
   "outputs": [],
   "source": [
    "\n"
   ]
  },
  {
   "cell_type": "code",
   "execution_count": null,
   "id": "13c3da6d-fb5f-4aa1-aa35-c6bbdc5235fd",
   "metadata": {},
   "outputs": [],
   "source": []
  },
  {
   "cell_type": "code",
   "execution_count": null,
   "id": "f8b6743b-23f4-4391-a1cb-8444525b1a76",
   "metadata": {},
   "outputs": [],
   "source": []
  }
 ],
 "metadata": {
  "kernelspec": {
   "display_name": "Python 3 (ipykernel)",
   "language": "python",
   "name": "python3"
  },
  "language_info": {
   "codemirror_mode": {
    "name": "ipython",
    "version": 3
   },
   "file_extension": ".py",
   "mimetype": "text/x-python",
   "name": "python",
   "nbconvert_exporter": "python",
   "pygments_lexer": "ipython3",
   "version": "3.11.7"
  }
 },
 "nbformat": 4,
 "nbformat_minor": 5
}
