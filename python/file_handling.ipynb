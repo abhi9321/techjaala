{
 "cells": [
  {
   "cell_type": "markdown",
   "id": "1554c2f5-f7e6-4418-bdca-404219d9dbe3",
   "metadata": {},
   "source": [
    "# File Handling in Python: A Comprehensive Guide\n",
    "- ## Introduction\n",
    "- ## Opening and Closing Files\n",
    "- ## Writing to a File\n",
    "- ## Reading from a File\n",
    "- ## Using the with Statement\n",
    "- ## Appending to a File\n",
    "- ## Working with File Paths\n",
    "- ## Exception Handling\n",
    "- ## Binary Files\n",
    "- ## Handling Large Files Efficiently\n"
   ]
  },
  {
   "cell_type": "code",
   "execution_count": null,
   "id": "eeb6854f-aa0d-46cb-b3f7-5db46ac473b8",
   "metadata": {},
   "outputs": [],
   "source": []
  },
  {
   "cell_type": "code",
   "execution_count": 12,
   "id": "0aa69861-0cd4-49f6-928b-b9a61fcf32e3",
   "metadata": {},
   "outputs": [],
   "source": [
    "file_path = r'C:\\Users\\files\\example.txt'"
   ]
  },
  {
   "cell_type": "markdown",
   "id": "d125436d-2019-4e79-badf-520306044750",
   "metadata": {},
   "source": [
    "#### How to Open and Close Files in Python \n"
   ]
  },
  {
   "cell_type": "code",
   "execution_count": 8,
   "id": "96425fb8-5526-4853-801c-d15f454ae486",
   "metadata": {},
   "outputs": [],
   "source": [
    "file = open(file_path,\"w\")\n",
    "\n",
    "file.close()"
   ]
  },
  {
   "cell_type": "markdown",
   "id": "a3679527-b96f-44ee-9b9f-c60f1f0ba0a5",
   "metadata": {},
   "source": [
    "#### Writing to and Reading from Text Files"
   ]
  },
  {
   "cell_type": "code",
   "execution_count": 13,
   "id": "eb9d7143-9c91-40ba-8bfd-f8b4ab678308",
   "metadata": {},
   "outputs": [],
   "source": [
    "#write to a file\n",
    "\n",
    "file = open(file_path, \"w\")\n",
    "file.write(\"1. learn python\\n\")\n",
    "file.write(\"2. create content\\n\")\n",
    "file.close()"
   ]
  },
  {
   "cell_type": "code",
   "execution_count": 14,
   "id": "53bf2801-d6d9-4662-aa24-8bfc07ffc619",
   "metadata": {},
   "outputs": [
    {
     "name": "stdout",
     "output_type": "stream",
     "text": [
      "1. learn python\n",
      "2. create content\n",
      "\n"
     ]
    }
   ],
   "source": [
    "# read from file\n",
    "\n",
    "file = open(file_path, \"r\")\n",
    "content = file.read()\n",
    "print(content)\n",
    "file.close()"
   ]
  },
  {
   "cell_type": "markdown",
   "id": "e9b7c6ef-9174-40ef-ac5b-e64075a8d143",
   "metadata": {},
   "source": [
    "#### Using 'with' statement for file operations"
   ]
  },
  {
   "cell_type": "code",
   "execution_count": 20,
   "id": "529d9260-f076-40e1-9d35-540d589736e2",
   "metadata": {},
   "outputs": [
    {
     "name": "stdout",
     "output_type": "stream",
     "text": [
      "1. learn python\n",
      "2. create content\n",
      "\n"
     ]
    }
   ],
   "source": [
    "with open(file_path, \"r\") as file:\n",
    "    content = file.read()\n",
    "    print(content)"
   ]
  },
  {
   "cell_type": "markdown",
   "id": "e027d4b7-4d45-446e-8c63-ba736f8b3c45",
   "metadata": {},
   "source": [
    "#### Appending Content to Existing Files"
   ]
  },
  {
   "cell_type": "code",
   "execution_count": 21,
   "id": "edcbc53a-8b89-4917-adb1-3d3c2d4f0562",
   "metadata": {},
   "outputs": [],
   "source": [
    "   with open(file_path, \"a\") as file:\n",
    "       file.write(\"3. Learn file handling\\n\")"
   ]
  },
  {
   "cell_type": "markdown",
   "id": "4cf0d800-dde2-4148-b956-dc1cb9a795c0",
   "metadata": {},
   "source": [
    "#### Working with File Paths Using the \"OS\" Module"
   ]
  },
  {
   "cell_type": "code",
   "execution_count": 30,
   "id": "6e403362-2f47-41a5-8128-df9a97d836ac",
   "metadata": {},
   "outputs": [],
   "source": [
    "import os"
   ]
  },
  {
   "cell_type": "code",
   "execution_count": 31,
   "id": "7c4b0d69-c6bb-4dd1-b4a4-5def6e676267",
   "metadata": {},
   "outputs": [
    {
     "name": "stdout",
     "output_type": "stream",
     "text": [
      "current dir:  C:\\Users\\sahan\\PycharmProjects\\python\n"
     ]
    }
   ],
   "source": [
    "cur_dir = os.getcwd()\n",
    "print(\"current dir: \", cur_dir)"
   ]
  },
  {
   "cell_type": "code",
   "execution_count": 32,
   "id": "1fa38530-a232-4dcf-8ac9-c04a1d669239",
   "metadata": {},
   "outputs": [
    {
     "name": "stdout",
     "output_type": "stream",
     "text": [
      "files in directory:  ['.ipynb_checkpoints', 'file_handling.ipynb', 'image', 'List.ipynb', 'python_dictionaries.ipynb', 'python_set.ipynb', 'Tuple.ipynb']\n"
     ]
    }
   ],
   "source": [
    "# list files\n",
    "files = os.listdir(cur_dir)\n",
    "print(\"files in directory: \", files)"
   ]
  },
  {
   "cell_type": "code",
   "execution_count": 34,
   "id": "c49dcb23-f5ee-47bd-a733-cc3ebfc85354",
   "metadata": {},
   "outputs": [
    {
     "name": "stdout",
     "output_type": "stream",
     "text": [
      "does file exist True\n"
     ]
    }
   ],
   "source": [
    "file_exists = os.path.exists(\"Tuple.ipynb\")\n",
    "print(\"does file exist\",file_exists)"
   ]
  },
  {
   "cell_type": "markdown",
   "id": "f29b0688-3e4c-43d9-be35-745bfb8fb35e",
   "metadata": {},
   "source": [
    "#### Handling File-Related Exceptions"
   ]
  },
  {
   "cell_type": "code",
   "execution_count": 36,
   "id": "04c24b9e-d3b1-4959-97a9-0b722b1f2256",
   "metadata": {},
   "outputs": [
    {
     "name": "stdout",
     "output_type": "stream",
     "text": [
      "file does not exist\n"
     ]
    }
   ],
   "source": [
    "try:\n",
    "    with open(\"non_existent_file.txt\", \"r\") as file:\n",
    "        content = file.read()\n",
    "except FileNotFoundError:\n",
    "    print(\"file does not exist\")"
   ]
  },
  {
   "cell_type": "markdown",
   "id": "69279e5f-5b8d-435f-9eb3-d937af043f33",
   "metadata": {},
   "source": [
    "#### Reading and Writing Binary Files"
   ]
  },
  {
   "cell_type": "code",
   "execution_count": 38,
   "id": "f7e0f5d9-5733-441d-97c8-69c4bc23272f",
   "metadata": {},
   "outputs": [],
   "source": [
    "# read bin data\n",
    "img_path = r\"C:\\Users\\files\\image\\techjaala.png\"\n",
    "\n",
    "with open(img_path, \"rb\") as file:\n",
    "    bin_content = file.read()\n",
    "\n",
    "out_path = r\"C:\\Users\\files\\image\\example.png\"\n",
    "with open(out_path, \"wb\") as file:\n",
    "    file.write(bin_content)"
   ]
  },
  {
   "cell_type": "markdown",
   "id": "8c959178-5974-48ec-a063-9bec28053b60",
   "metadata": {},
   "source": [
    "#### Processing large files\n",
    "- #### read line by line\n",
    "- #### read in chunks\n",
    "- #### use generators"
   ]
  },
  {
   "cell_type": "code",
   "execution_count": null,
   "id": "27b8466d-d64a-4be0-a82a-0e89d356db37",
   "metadata": {},
   "outputs": [],
   "source": [
    "with open(\"large_file.txt\", \"r\") as file:\n",
    "    for line in file:\n",
    "        print(line)\n",
    "        #process(line)  # Replace with your processing logic"
   ]
  },
  {
   "cell_type": "code",
   "execution_count": null,
   "id": "26fb40ef-569e-499e-be8e-ab3e79faab67",
   "metadata": {},
   "outputs": [],
   "source": []
  },
  {
   "cell_type": "code",
   "execution_count": null,
   "id": "1ee9678d-4eab-42c8-91aa-66ae4a390126",
   "metadata": {},
   "outputs": [],
   "source": []
  },
  {
   "cell_type": "code",
   "execution_count": 5,
   "id": "844e91b6-b35f-4a3f-b330-f267c82a192e",
   "metadata": {},
   "outputs": [
    {
     "name": "stdout",
     "output_type": "stream",
     "text": [
      "Processing chunk of size: 1024\n",
      "Number of lines in this chunk: 113\n",
      "Processing chunk of size: 207\n",
      "Number of lines in this chunk: 21\n"
     ]
    }
   ],
   "source": [
    "# Reading a large file in chunks\n",
    "def process(chunk):\n",
    "    # Count the number of lines in the chunk\n",
    "    print(f\"Processing chunk of size: {len(chunk)}\")\n",
    "    line_count = chunk.count('\\n')\n",
    "    print(f\"Number of lines in this chunk: {line_count}\")\n",
    "    \n",
    "def read_in_chunks(file_object, chunk_size=1024):\n",
    "    while True:\n",
    "        data = file_object.read(chunk_size)\n",
    "        if not data:\n",
    "            break\n",
    "        process(data)   \n",
    "\n",
    "with open(large_file, \"r\") as file:\n",
    "    read_in_chunks(file)\n"
   ]
  },
  {
   "cell_type": "code",
   "execution_count": null,
   "id": "cbcb9696-37e9-4a62-96ca-8eaa5279797f",
   "metadata": {},
   "outputs": [],
   "source": []
  },
  {
   "cell_type": "code",
   "execution_count": 9,
   "id": "8fdb5cfc-34cb-4a0e-afef-7758878c3e72",
   "metadata": {},
   "outputs": [
    {
     "name": "stdout",
     "output_type": "stream",
     "text": [
      "Processing line of length: 7\n",
      "Processing line of length: 8\n",
      "Processing line of length: 8\n",
      "Processing line of length: 8\n",
      "Processing line of length: 8\n",
      "Processing line of length: 8\n",
      "Processing line of length: 8\n",
      "Processing line of length: 8\n",
      "Processing line of length: 8\n",
      "Processing line of length: 9\n",
      "Processing line of length: 9\n",
      "Processing line of length: 9\n",
      "Processing line of length: 9\n",
      "Processing line of length: 9\n",
      "Processing line of length: 9\n",
      "Processing line of length: 9\n",
      "Processing line of length: 9\n",
      "Processing line of length: 9\n",
      "Processing line of length: 9\n",
      "Processing line of length: 9\n",
      "Processing line of length: 9\n",
      "Processing line of length: 9\n",
      "Processing line of length: 9\n",
      "Processing line of length: 9\n",
      "Processing line of length: 9\n",
      "Processing line of length: 9\n",
      "Processing line of length: 9\n",
      "Processing line of length: 9\n",
      "Processing line of length: 9\n",
      "Processing line of length: 9\n",
      "Processing line of length: 9\n",
      "Processing line of length: 9\n",
      "Processing line of length: 9\n",
      "Processing line of length: 9\n",
      "Processing line of length: 9\n",
      "Processing line of length: 9\n",
      "Processing line of length: 9\n",
      "Processing line of length: 9\n",
      "Processing line of length: 9\n",
      "Processing line of length: 9\n",
      "Processing line of length: 9\n",
      "Processing line of length: 9\n",
      "Processing line of length: 9\n",
      "Processing line of length: 9\n",
      "Processing line of length: 9\n",
      "Processing line of length: 9\n",
      "Processing line of length: 9\n",
      "Processing line of length: 9\n",
      "Processing line of length: 9\n",
      "Processing line of length: 9\n",
      "Processing line of length: 9\n",
      "Processing line of length: 9\n",
      "Processing line of length: 9\n",
      "Processing line of length: 9\n",
      "Processing line of length: 9\n",
      "Processing line of length: 9\n",
      "Processing line of length: 9\n",
      "Processing line of length: 9\n",
      "Processing line of length: 9\n",
      "Processing line of length: 9\n",
      "Processing line of length: 9\n",
      "Processing line of length: 9\n",
      "Processing line of length: 9\n",
      "Processing line of length: 9\n",
      "Processing line of length: 9\n",
      "Processing line of length: 9\n",
      "Processing line of length: 9\n",
      "Processing line of length: 9\n",
      "Processing line of length: 9\n",
      "Processing line of length: 9\n",
      "Processing line of length: 9\n",
      "Processing line of length: 9\n",
      "Processing line of length: 9\n",
      "Processing line of length: 9\n",
      "Processing line of length: 9\n",
      "Processing line of length: 9\n",
      "Processing line of length: 9\n",
      "Processing line of length: 9\n",
      "Processing line of length: 9\n",
      "Processing line of length: 9\n",
      "Processing line of length: 9\n",
      "Processing line of length: 9\n",
      "Processing line of length: 9\n",
      "Processing line of length: 9\n",
      "Processing line of length: 9\n",
      "Processing line of length: 9\n",
      "Processing line of length: 9\n",
      "Processing line of length: 9\n",
      "Processing line of length: 9\n",
      "Processing line of length: 9\n",
      "Processing line of length: 9\n",
      "Processing line of length: 9\n",
      "Processing line of length: 9\n",
      "Processing line of length: 9\n",
      "Processing line of length: 9\n",
      "Processing line of length: 9\n",
      "Processing line of length: 9\n",
      "Processing line of length: 9\n",
      "Processing line of length: 9\n",
      "Processing line of length: 10\n",
      "Processing line of length: 10\n",
      "Processing line of length: 10\n",
      "Processing line of length: 10\n",
      "Processing line of length: 10\n",
      "Processing line of length: 10\n",
      "Processing line of length: 10\n",
      "Processing line of length: 10\n",
      "Processing line of length: 10\n",
      "Processing line of length: 10\n",
      "Processing line of length: 10\n",
      "Processing line of length: 10\n",
      "Processing line of length: 10\n",
      "Processing line of length: 10\n",
      "Processing line of length: 10\n",
      "Processing line of length: 10\n",
      "Processing line of length: 10\n",
      "Processing line of length: 10\n",
      "Processing line of length: 10\n",
      "Processing line of length: 10\n",
      "Processing line of length: 10\n",
      "Processing line of length: 10\n",
      "Processing line of length: 10\n",
      "Processing line of length: 10\n",
      "Processing line of length: 10\n",
      "Processing line of length: 10\n",
      "Processing line of length: 10\n",
      "Processing line of length: 10\n",
      "Processing line of length: 10\n",
      "Processing line of length: 10\n",
      "Processing line of length: 10\n",
      "Processing line of length: 10\n",
      "Processing line of length: 10\n",
      "Processing line of length: 10\n",
      "Processing line of length: 10\n"
     ]
    }
   ],
   "source": [
    "def process(line):\n",
    "    # Print the length of each line\n",
    "    print(f\"Processing line of length: {len(line)}\")\n",
    "\n",
    "# Using a generator to process large files\n",
    "def file_generator(file_name):\n",
    "    with open(file_name, \"r\") as file:\n",
    "        for line in file:\n",
    "            yield line\n",
    "\n",
    "for line in file_generator(large_file):\n",
    "    process(line)  # Replace with your processing logic\n"
   ]
  },
  {
   "cell_type": "code",
   "execution_count": null,
   "id": "da3a98f5-6668-40b4-8b7d-bbf5a16f5d4b",
   "metadata": {},
   "outputs": [],
   "source": []
  },
  {
   "cell_type": "code",
   "execution_count": null,
   "id": "122b9f27-16e3-49f1-928d-d93c0209af78",
   "metadata": {},
   "outputs": [],
   "source": []
  }
 ],
 "metadata": {
  "kernelspec": {
   "display_name": "Python 3 (ipykernel)",
   "language": "python",
   "name": "python3"
  },
  "language_info": {
   "codemirror_mode": {
    "name": "ipython",
    "version": 3
   },
   "file_extension": ".py",
   "mimetype": "text/x-python",
   "name": "python",
   "nbconvert_exporter": "python",
   "pygments_lexer": "ipython3",
   "version": "3.11.7"
  }
 },
 "nbformat": 4,
 "nbformat_minor": 5
}
