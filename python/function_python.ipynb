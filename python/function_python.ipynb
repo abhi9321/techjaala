{
 "cells": [
  {
   "cell_type": "code",
   "execution_count": 1,
   "id": "396bdaab-b40b-45df-b398-91633aa49e54",
   "metadata": {},
   "outputs": [],
   "source": [
    "##### FUNCTIONS ######\n",
    "# Why we need functions\n",
    "# How to define and call functions\n",
    "# Function arguments and default arguments\n",
    "# Variable-length arguments\n",
    "# Lambda functions\n",
    "# Functions as first-class objects\n",
    "# And we’ll sprinkle some decorators magic!"
   ]
  },
  {
   "cell_type": "markdown",
   "id": "1e254152-809e-4cd9-b756-168ecc058cb4",
   "metadata": {},
   "source": [
    "#### FUNCTION \n",
    "- #### A function is a block of reusable code that performs a specific task"
   ]
  },
  {
   "cell_type": "code",
   "execution_count": null,
   "id": "478741f2-b48f-47f4-b92f-fb03bc39559d",
   "metadata": {},
   "outputs": [],
   "source": [
    "# Without functions\n",
    "print(\"Prepare batter\")\n",
    "print(\"Heat the tawa\")\n",
    "print(\"Pour batter and spread\")\n",
    "print(\"Add masala filling\")\n",
    "print(\"Fold and serve\")\n",
    "\n",
    "print(\"Prepare batter\")\n",
    "print(\"Heat the tawa\")\n",
    "print(\"Pour batter and spread\")\n",
    "print(\"Add masala filling\")\n",
    "print(\"Fold and serve\")\n"
   ]
  },
  {
   "cell_type": "code",
   "execution_count": null,
   "id": "254f070b-8ec8-4df4-abd3-842f56f3f57f",
   "metadata": {},
   "outputs": [],
   "source": []
  },
  {
   "cell_type": "code",
   "execution_count": null,
   "id": "8936d62e-2443-4592-bd4f-2d09750ea055",
   "metadata": {},
   "outputs": [],
   "source": []
  },
  {
   "cell_type": "code",
   "execution_count": null,
   "id": "7a284168-cb5a-4345-ae15-eeb7776fea76",
   "metadata": {},
   "outputs": [],
   "source": [
    "# with function\n",
    "def make_dosa():\n",
    "    print(\"Prepare batter\")\n",
    "    print(\"Heat the tawa\")\n",
    "    print(\"Pour batter and spread\")\n",
    "    print(\"Add masala filling\")\n",
    "    print(\"Fold and serve\")\n",
    "\n",
    "make_dosa() # serve 1st customer \n",
    "make_dosa() # serve 2nd customer\n"
   ]
  },
  {
   "cell_type": "markdown",
   "id": "786391d0-dfeb-47c1-b45b-da18cbf028a4",
   "metadata": {},
   "source": [
    "#### Defining and Calling functions"
   ]
  },
  {
   "cell_type": "code",
   "execution_count": null,
   "id": "3d4f518e-1496-4616-bb4b-b5b656eab890",
   "metadata": {},
   "outputs": [],
   "source": [
    "# define\n",
    "def function_name(parameters):\n",
    "    # code to execute\n"
   ]
  },
  {
   "cell_type": "code",
   "execution_count": null,
   "id": "e14fa619-e87d-4f5d-b3ca-14326e5bbf52",
   "metadata": {},
   "outputs": [],
   "source": [
    "# call\n",
    "function_name(parameters)"
   ]
  },
  {
   "cell_type": "code",
   "execution_count": 4,
   "id": "1314cb5c-9459-4968-8d83-6843aad87886",
   "metadata": {},
   "outputs": [],
   "source": [
    "def make_dosa():\n",
    "    print(\"Prepare batter\")\n",
    "    print(\"Heat the tawa\")\n",
    "    print(\"Pour batter and spread\")\n",
    "    print(\"Add masala filling\")\n",
    "    print(\"Fold and serve\")"
   ]
  },
  {
   "cell_type": "code",
   "execution_count": 6,
   "id": "8db73cd3-b5ce-4bff-8b15-7f98c7c88423",
   "metadata": {},
   "outputs": [
    {
     "name": "stdout",
     "output_type": "stream",
     "text": [
      "Prepare batter\n",
      "Heat the tawa\n",
      "Pour batter and spread\n",
      "Add masala filling\n",
      "Fold and serve\n"
     ]
    }
   ],
   "source": [
    "make_dosa()"
   ]
  },
  {
   "cell_type": "markdown",
   "id": "3200539b-6d72-4ef3-8658-85611efe67e3",
   "metadata": {},
   "source": [
    "#### Function Arguments"
   ]
  },
  {
   "cell_type": "code",
   "execution_count": null,
   "id": "18616668-f180-433e-917f-cf6c6437feb7",
   "metadata": {},
   "outputs": [],
   "source": [
    "def function_name(parameter1, parameter2):\n",
    "    # code to execute using parameters\n"
   ]
  },
  {
   "cell_type": "code",
   "execution_count": 7,
   "id": "e8013dc6-4d1e-4a97-b20f-12b1dd18ba30",
   "metadata": {},
   "outputs": [
    {
     "name": "stdout",
     "output_type": "stream",
     "text": [
      "Prepare batter\n",
      "Heat the tawa\n",
      "Pour batter and spread for masala dosa\n",
      "Add potato filling\n",
      "Fold and serve\n"
     ]
    }
   ],
   "source": [
    "def make_special_dosa(type_of_dosa, filling):\n",
    "    print(\"Prepare batter\")\n",
    "    print(\"Heat the tawa\")\n",
    "    print(f\"Pour batter and spread for {type_of_dosa} dosa\")\n",
    "    print(f\"Add {filling} filling\")\n",
    "    print(\"Fold and serve\")\n",
    "\n",
    "make_special_dosa(\"masala\", \"potato\")\n"
   ]
  },
  {
   "cell_type": "code",
   "execution_count": null,
   "id": "9d389718-b7e8-4cfc-bce6-d9093640b11b",
   "metadata": {},
   "outputs": [],
   "source": []
  },
  {
   "cell_type": "markdown",
   "id": "9786cf56-f429-420e-9023-0ca1f1e6d238",
   "metadata": {},
   "source": [
    "#### Default Arguments"
   ]
  },
  {
   "cell_type": "code",
   "execution_count": 11,
   "id": "5b32fbb0-8890-439b-b826-36e41af61fda",
   "metadata": {},
   "outputs": [
    {
     "name": "stdout",
     "output_type": "stream",
     "text": [
      "Prepare batter\n",
      "Heat the tawa\n",
      "Pour batter and spread for masala dosa\n",
      "Add lemon filling\n",
      "Fold and serve\n"
     ]
    }
   ],
   "source": [
    "def make_special_dosa(type_of_dosa, filling=\"potato\"):\n",
    "    print(\"Prepare batter\")\n",
    "    print(\"Heat the tawa\")\n",
    "    print(f\"Pour batter and spread for {type_of_dosa} dosa\")\n",
    "    print(f\"Add {filling} filling\")\n",
    "    print(\"Fold and serve\")\n",
    "\n",
    "make_special_dosa(\"masala\", \"lemon\")\n"
   ]
  },
  {
   "cell_type": "code",
   "execution_count": null,
   "id": "f927c536-46e2-4b2b-8fbc-14cc827a0df0",
   "metadata": {},
   "outputs": [],
   "source": []
  },
  {
   "cell_type": "markdown",
   "id": "920be31d-e47f-458c-8a22-7c60a46754bd",
   "metadata": {},
   "source": [
    "#### Variable-length Arguments\n",
    "- #### *args and **kwargs"
   ]
  },
  {
   "cell_type": "code",
   "execution_count": 25,
   "id": "15aa28e1-4e77-4ad1-9051-ec2fdf1b8ff3",
   "metadata": {},
   "outputs": [],
   "source": [
    "# Using *args for Variable-Length Positional Arguments\n",
    "\n",
    "def make_masala_dosa(*toppings):\n",
    "    print(type(toppings))\n",
    "    print(\"Prepare batter\")\n",
    "    print(\"Heat the tawa\")\n",
    "    print(\"Pour batter and spread\")\n",
    "    print(\"Add potato filling\")\n",
    "    for topping in toppings:\n",
    "        print(f\"Add {topping}\")\n",
    "    print(\"Fold and serve\")\n",
    "\n"
   ]
  },
  {
   "cell_type": "code",
   "execution_count": 26,
   "id": "bc0f24ea-5136-470f-8deb-a49e5c45a766",
   "metadata": {},
   "outputs": [
    {
     "name": "stdout",
     "output_type": "stream",
     "text": [
      "<class 'tuple'>\n",
      "Prepare batter\n",
      "Heat the tawa\n",
      "Pour batter and spread\n",
      "Add potato filling\n",
      "Add cheese\n",
      "Add onion\n",
      "Add tomatoes\n",
      "Fold and serve\n"
     ]
    }
   ],
   "source": [
    "make_masala_dosa(\"cheese\",\"onion\",\"tomatoes\")"
   ]
  },
  {
   "cell_type": "code",
   "execution_count": 22,
   "id": "32f4087a-041d-4275-b5fb-0b351a6f98b6",
   "metadata": {},
   "outputs": [
    {
     "name": "stdout",
     "output_type": "stream",
     "text": [
      "Prepare batter\n",
      "Heat the tawa\n",
      "Pour batter and spread\n",
      "Add potato filling\n",
      "Add capsicum\n",
      "Add paneer\n",
      "Fold and serve\n"
     ]
    }
   ],
   "source": [
    "make_masala_dosa(\"capsicum\",\"paneer\")"
   ]
  },
  {
   "cell_type": "code",
   "execution_count": null,
   "id": "5fdde6c8-1029-42e0-bb59-8ac06251995c",
   "metadata": {},
   "outputs": [],
   "source": []
  },
  {
   "cell_type": "code",
   "execution_count": 29,
   "id": "65400aca-5379-4f50-85ec-9a7bd92c9864",
   "metadata": {},
   "outputs": [],
   "source": [
    "#### Using **kwargs for Variable-Length Keyword Arguments\n",
    "\n",
    "def make_special_dosa(**ingredients):\n",
    "    print(\"Prepare batter\")\n",
    "    print(\"Heat the tawa\")\n",
    "    print(\"Pour batter and spread\")\n",
    "    for item, quantity in ingredients.items():\n",
    "        print(f\"Add {quantity} of {item}\")\n",
    "    print(\"Fold and serve\")\n"
   ]
  },
  {
   "cell_type": "code",
   "execution_count": 32,
   "id": "896c170f-5fa4-46d4-b858-6eacef66cade",
   "metadata": {},
   "outputs": [
    {
     "name": "stdout",
     "output_type": "stream",
     "text": [
      "Prepare batter\n",
      "Heat the tawa\n",
      "Pour batter and spread\n",
      "Add 100g of cheese\n",
      "Add 1 large of onions\n",
      "Add 2 medium of tomatoes\n",
      "Fold and serve\n"
     ]
    }
   ],
   "source": [
    "make_special_dosa(cheese=\"100g\", onions=\"1 large\", tomatoes=\"2 medium\")"
   ]
  },
  {
   "cell_type": "code",
   "execution_count": null,
   "id": "99e02df2-b0b5-4548-ae4c-a09f787766ca",
   "metadata": {},
   "outputs": [],
   "source": []
  },
  {
   "cell_type": "markdown",
   "id": "4306d029-c52f-4208-98fb-338702e4dc5d",
   "metadata": {},
   "source": [
    "#### Lambda functions\n",
    "- #### `lambda arguments : expression`"
   ]
  },
  {
   "cell_type": "code",
   "execution_count": 34,
   "id": "3779a966-3b1b-4335-9ee5-bf08eb3e4e51",
   "metadata": {},
   "outputs": [
    {
     "name": "stdout",
     "output_type": "stream",
     "text": [
      "7\n"
     ]
    }
   ],
   "source": [
    "# Lambda function\n",
    "add_lambda = lambda x, y: x + y\n",
    "\n",
    "# Using the lambda function\n",
    "result = add_lambda(3, 4)\n",
    "print(result) \n"
   ]
  },
  {
   "cell_type": "code",
   "execution_count": 46,
   "id": "7973ffb9-608b-46df-9ea7-29725e1f710d",
   "metadata": {},
   "outputs": [
    {
     "name": "stdout",
     "output_type": "stream",
     "text": [
      "80\n"
     ]
    }
   ],
   "source": [
    "# can take any number of arguments\n",
    "# multiply a , b and c and return result\n",
    "\n",
    "multiply_lambda =  lambda a, b, c : a * b * c\n",
    "\n",
    "print(multiply_lambda(2,5,8))"
   ]
  },
  {
   "cell_type": "markdown",
   "id": "a9b0dff1-f2ea-4822-b1e8-61ddfb8aab89",
   "metadata": {},
   "source": [
    "#### Comparing Lambda Functions with Regular Functions"
   ]
  },
  {
   "cell_type": "code",
   "execution_count": 49,
   "id": "96d5ad2c-6c99-4467-a1f6-c0a4a5b1da5e",
   "metadata": {},
   "outputs": [
    {
     "name": "stdout",
     "output_type": "stream",
     "text": [
      "80\n"
     ]
    }
   ],
   "source": [
    "# Regular function\n",
    "def multiply_lambda(a, b, c):\n",
    "    return a * b * c\n",
    "\n",
    "result = multiply_lambda(2, 5, 8)\n",
    "print(result)  \n"
   ]
  },
  {
   "cell_type": "markdown",
   "id": "e8e284d8-c5d5-4992-af99-6c12661fb7ea",
   "metadata": {},
   "source": [
    "#### What are First-Class Functions?\n",
    "- #### assign them to variables\n",
    "- #### can pass functions as arguments to other functions\n",
    "- #### return them from functions\n",
    "- #### Using Functions in Collections"
   ]
  },
  {
   "cell_type": "code",
   "execution_count": 55,
   "id": "1bef17f8-8b39-40a6-a7b1-1325e098ad8e",
   "metadata": {},
   "outputs": [
    {
     "name": "stdout",
     "output_type": "stream",
     "text": [
      "Hello, shah Rukh!\n"
     ]
    }
   ],
   "source": [
    "# assign them to variables\n",
    "\n",
    "def say_hello(name):\n",
    "    return f\"Hello, {name}!\"\n",
    "\n",
    "# say_hello(\"Shah Rukh\")\n",
    "\n",
    "greet = say_hello\n",
    "\n",
    "print(greet(\"shah Rukh\"))"
   ]
  },
  {
   "cell_type": "code",
   "execution_count": 56,
   "id": "03ac297c-96bb-4e9c-8881-70f3dece335f",
   "metadata": {},
   "outputs": [
    {
     "name": "stdout",
     "output_type": "stream",
     "text": [
      "Hello, Salman!\n"
     ]
    }
   ],
   "source": [
    "# pass functions as arguments to other functions\n",
    "\n",
    "# Here action is a function argument\n",
    "def perform_action(action, name):\n",
    "    return action(name)\n",
    "\n",
    "# Passing the say_hello function\n",
    "result = perform_action(say_hello, \"Salman\")\n",
    "print(result)  "
   ]
  },
  {
   "cell_type": "code",
   "execution_count": null,
   "id": "a2fdc762-9fb3-44b4-8500-90ff014fc501",
   "metadata": {},
   "outputs": [],
   "source": []
  },
  {
   "cell_type": "code",
   "execution_count": 58,
   "id": "5afb67ba-5474-43f1-9191-bb4927797564",
   "metadata": {},
   "outputs": [
    {
     "data": {
      "text/plain": [
       "'Namaste, Deepika!'"
      ]
     },
     "execution_count": 58,
     "metadata": {},
     "output_type": "execute_result"
    }
   ],
   "source": [
    "# Returning Functions from Functions\n",
    "\n",
    "def get_greeting_function():\n",
    "    def greet(name):\n",
    "        return f\"Namaste, {name}!\"\n",
    "    return greet\n",
    "\n",
    "greet_function = get_greeting_function()\n",
    "\n",
    "greet_function(\"Deepika\")"
   ]
  },
  {
   "cell_type": "code",
   "execution_count": null,
   "id": "ddce014a-ceed-4140-a1d5-569a8d30ac67",
   "metadata": {},
   "outputs": [],
   "source": []
  },
  {
   "cell_type": "code",
   "execution_count": 60,
   "id": "df3e5348-a1f6-4932-aebe-c527c9218e13",
   "metadata": {},
   "outputs": [
    {
     "name": "stdout",
     "output_type": "stream",
     "text": [
      "Hrithik is singing!\n",
      "Hrithik is dancing!\n"
     ]
    }
   ],
   "source": [
    "#### Using Functions as First-Class Objects in Collections\n",
    "# List of functions\n",
    "def sing_song(name):\n",
    "    return f\"{name} is singing!\"\n",
    "\n",
    "def dance_move(name):\n",
    "    return f\"{name} is dancing!\"\n",
    "\n",
    "actions = [sing_song, dance_move]\n",
    "\n",
    "# Using functions from the list\n",
    "for action in actions:\n",
    "    print(action(\"Hrithik\"))  \n"
   ]
  },
  {
   "cell_type": "code",
   "execution_count": null,
   "id": "74d01660-4abe-45b5-80e4-f34e1d3201df",
   "metadata": {},
   "outputs": [],
   "source": []
  },
  {
   "cell_type": "markdown",
   "id": "d6f5633d-b70a-449c-860f-5d0fb09a2325",
   "metadata": {},
   "source": [
    "#### Decorators in Python\n",
    " - #### Decorators are special functions that can modify the behavior of other functions or methods\n",
    " - #### A decorator is a function that takes another function as an argument, adds some code, and returns a new function"
   ]
  },
  {
   "cell_type": "code",
   "execution_count": 19,
   "id": "10b8b821-0846-49df-a15e-04eb1aa2901c",
   "metadata": {},
   "outputs": [],
   "source": [
    "# decorator function\n",
    "def makeup_artist(func):\n",
    "    def wrapper():\n",
    "        print(\"Applying makeup...\")\n",
    "        func()\n",
    "        print(\"Makeup done!\")\n",
    "    return wrapper\n",
    "\n",
    "@makeup_artist\n",
    "def actor_on_set():\n",
    "    print(\"Actor is ready to shoot!\")"
   ]
  },
  {
   "cell_type": "code",
   "execution_count": 20,
   "id": "76302892-585e-4eb3-8772-2b3826f8e919",
   "metadata": {},
   "outputs": [
    {
     "name": "stdout",
     "output_type": "stream",
     "text": [
      "Applying makeup...\n",
      "Actor is ready to shoot!\n",
      "Makeup done!\n"
     ]
    }
   ],
   "source": [
    "actor_on_set()"
   ]
  },
  {
   "cell_type": "code",
   "execution_count": 22,
   "id": "c182d63c-4cac-472e-9f3a-026c796046e3",
   "metadata": {},
   "outputs": [],
   "source": [
    "# multiple decorators\n",
    "def costume_designer(func):\n",
    "    def wrapper():\n",
    "        print(\"Choosing costume...\")\n",
    "        func()\n",
    "        print(\"Costume chosen!\")\n",
    "    return wrapper\n",
    "\n",
    "def makeup_artist(func):\n",
    "    def wrapper():\n",
    "        print(\"Applying makeup...\")\n",
    "        func()\n",
    "        print(\"Makeup done!\")\n",
    "    return wrapper\n",
    "\n",
    "@costume_designer\n",
    "@makeup_artist\n",
    "def actor_on_set():\n",
    "    print(\"Actor is ready to shoot!\")"
   ]
  },
  {
   "cell_type": "code",
   "execution_count": 23,
   "id": "7e7a8774-f4e2-4d3b-afeb-42bd4f1a7598",
   "metadata": {},
   "outputs": [
    {
     "name": "stdout",
     "output_type": "stream",
     "text": [
      "Choosing costume...\n",
      "Applying makeup...\n",
      "Actor is ready to shoot!\n",
      "Makeup done!\n",
      "Costume chosen!\n"
     ]
    }
   ],
   "source": [
    "actor_on_set()"
   ]
  },
  {
   "cell_type": "code",
   "execution_count": null,
   "id": "691297e5-a374-4da4-ac2a-e76678304b46",
   "metadata": {},
   "outputs": [],
   "source": []
  },
  {
   "cell_type": "markdown",
   "id": "e1bd31e3-e0f2-4e56-82ae-3b3d9de109d8",
   "metadata": {},
   "source": [
    "#### Pass arguments to :\n",
    "- #### Functions\n",
    "- #### Decorators"
   ]
  },
  {
   "cell_type": "code",
   "execution_count": 148,
   "id": "2efccd1a-13fc-4ab0-b2a7-745929b5c9c9",
   "metadata": {},
   "outputs": [],
   "source": [
    "# pass arguments to a function\n",
    "def makeup_artist(func):\n",
    "    def wrapper(*args, **kwargs):\n",
    "        print(\"Applying makeup...\")\n",
    "        func(*args, **kwargs)\n",
    "        print(\"Makeup done!\")\n",
    "    return wrapper\n",
    "\n",
    "@makeup_artist\n",
    "def actor_on_set(name):\n",
    "    print(f\"Actor {name} is ready to shoot!\")"
   ]
  },
  {
   "cell_type": "code",
   "execution_count": 149,
   "id": "9c528a86-3e2d-42ab-8aed-991f5437d363",
   "metadata": {},
   "outputs": [
    {
     "name": "stdout",
     "output_type": "stream",
     "text": [
      "Applying makeup...\n",
      "Actor Rajkumar is ready to shoot!\n",
      "Makeup done!\n"
     ]
    }
   ],
   "source": [
    "actor_on_set(\"Rajkumar\")"
   ]
  },
  {
   "cell_type": "code",
   "execution_count": null,
   "id": "a5d932c9-971b-4ecb-97ab-5336bce1243c",
   "metadata": {},
   "outputs": [],
   "source": []
  },
  {
   "cell_type": "markdown",
   "id": "b5af4b92-77cf-442f-a02f-14c487494c99",
   "metadata": {},
   "source": [
    "#### Pass Arguments to a Decorator\n",
    "#### The decorator with arguments should return a function that will take a function and return another function\n",
    "- #### Outer Function:It takes the arguments from decorator.\n",
    "- #### Decorator Function: It takes the function to be decorated.\n",
    "- #### Wrapper Function: It wraps the original function and adds additional behavior."
   ]
  },
  {
   "cell_type": "code",
   "execution_count": 160,
   "id": "2a3c0120-21b8-4734-9f23-c982782c6057",
   "metadata": {},
   "outputs": [],
   "source": [
    "# pass arguments to a Decorator\n",
    "def outer_func(dec_args):\n",
    "    def decorator(func):\n",
    "        def wrapper(*args, **kwargs):\n",
    "            print(\"add additional functionality\")\n",
    "            func(*args,**kwargs)\n",
    "            print(\"add additional functionality\")\n",
    "        return wrapper\n",
    "    return decorator"
   ]
  },
  {
   "cell_type": "code",
   "execution_count": 161,
   "id": "348d60f0-9f97-4f9b-8e3c-860d6b30d5a3",
   "metadata": {},
   "outputs": [],
   "source": [
    "# pass arg to decorator\n",
    "def makeup_artist(level):\n",
    "    def decorator(func):      \n",
    "        def wrapper(*args, **kwargs):\n",
    "            print(f\"{level} - Applying makeup...\")\n",
    "            func(*args, **kwargs)\n",
    "            print(f\"{level} - Makeup done!\")\n",
    "        return wrapper\n",
    "    return decorator\n",
    "\n",
    "@makeup_artist(level = \"INFO\")\n",
    "def actor_on_set(name):\n",
    "    print(f\"Actor {name} is ready to shoot!\")"
   ]
  },
  {
   "cell_type": "code",
   "execution_count": 162,
   "id": "0131cf86-1d05-4d57-a3d8-07a7a55add9e",
   "metadata": {},
   "outputs": [
    {
     "name": "stdout",
     "output_type": "stream",
     "text": [
      "INFO - Applying makeup...\n",
      "Actor Rajkumar is ready to shoot!\n",
      "INFO - Makeup done!\n"
     ]
    }
   ],
   "source": [
    "actor_on_set(\"Rajkumar\")"
   ]
  },
  {
   "cell_type": "code",
   "execution_count": null,
   "id": "d51a2de2-56b2-4645-941a-caa88b6cf8f1",
   "metadata": {},
   "outputs": [],
   "source": []
  }
 ],
 "metadata": {
  "kernelspec": {
   "display_name": "Python 3 (ipykernel)",
   "language": "python",
   "name": "python3"
  },
  "language_info": {
   "codemirror_mode": {
    "name": "ipython",
    "version": 3
   },
   "file_extension": ".py",
   "mimetype": "text/x-python",
   "name": "python",
   "nbconvert_exporter": "python",
   "pygments_lexer": "ipython3",
   "version": "3.11.7"
  }
 },
 "nbformat": 4,
 "nbformat_minor": 5
}
